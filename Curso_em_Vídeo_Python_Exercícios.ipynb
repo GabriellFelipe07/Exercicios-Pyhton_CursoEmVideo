{
  "nbformat": 4,
  "nbformat_minor": 0,
  "metadata": {
    "colab": {
      "provenance": [],
      "authorship_tag": "ABX9TyNJgzsrb05LYCpjZp07ZVlN",
      "include_colab_link": true
    },
    "kernelspec": {
      "name": "python3",
      "display_name": "Python 3"
    },
    "language_info": {
      "name": "python"
    }
  },
  "cells": [
    {
      "cell_type": "markdown",
      "metadata": {
        "id": "view-in-github",
        "colab_type": "text"
      },
      "source": [
        "<a href=\"https://colab.research.google.com/github/GabriellFelipe07/Exercicios-Pyhton_CursoEmVideo/blob/main/Curso_em_V%C3%ADdeo_Python_Exerc%C3%ADcios.ipynb\" target=\"_parent\"><img src=\"https://colab.research.google.com/assets/colab-badge.svg\" alt=\"Open In Colab\"/></a>"
      ]
    },
    {
      "cell_type": "markdown",
      "source": [
        "# **Exercícios**"
      ],
      "metadata": {
        "id": "8JqT3r9d91Yq"
      }
    },
    {
      "cell_type": "code",
      "source": [
        "#1. Crie um programa que escreva \"Olá, mundo!\" na tela\n",
        "print('Olá, mundo!')"
      ],
      "metadata": {
        "colab": {
          "base_uri": "https://localhost:8080/"
        },
        "id": "qADWjky090-7",
        "outputId": "c579c3d5-2ad0-4206-f53f-243ee65888b7"
      },
      "execution_count": null,
      "outputs": [
        {
          "output_type": "stream",
          "name": "stdout",
          "text": [
            "Olá, mundo!\n"
          ]
        }
      ]
    },
    {
      "cell_type": "code",
      "execution_count": null,
      "metadata": {
        "colab": {
          "base_uri": "https://localhost:8080/"
        },
        "id": "cfCr5LrY9wfR",
        "outputId": "fe6f01f7-21b0-4e49-c1f3-efd13b8979e8"
      },
      "outputs": [
        {
          "output_type": "stream",
          "name": "stdout",
          "text": [
            "Gabriel\n",
            "Seja bem vindo/a, Gabriel.\n"
          ]
        }
      ],
      "source": [
        "#2. Faça um programa que pergunte o nome de um apessoa e dê boas-vindas\n",
        "nome = input()\n",
        "print(f'Seja bem vindo/a, {nome}.')"
      ]
    },
    {
      "cell_type": "code",
      "source": [
        "#3. Faça um programa que leia dois números e dê a soma entre eles\n",
        "n1 = int(input('Digite um valor:'))\n",
        "n2 = int(input('Digite outro valor:'))\n",
        "print(f'A soma entre os valores é {n1 + n2}.')"
      ],
      "metadata": {
        "colab": {
          "base_uri": "https://localhost:8080/"
        },
        "id": "hv8_Wk3W-kzZ",
        "outputId": "b0f52a09-0ba6-4683-a31f-d95644c41103"
      },
      "execution_count": null,
      "outputs": [
        {
          "output_type": "stream",
          "name": "stdout",
          "text": [
            "Digite um valor:3\n",
            "Digite outro valor:2\n",
            "A soma entre os valores é 5.\n"
          ]
        }
      ]
    },
    {
      "cell_type": "code",
      "source": [
        "#4. Faça um programa que disseque um input do usuário\n",
        "var = input()\n",
        "print('O tipo primitivo:', type(var))\n",
        "print('É numérico?', var.isnumeric())\n",
        "print('Só tem espaços?', var.isspace())\n",
        "print('É alfabético?', var.isalpha())\n",
        "print('É alfanumérico?', var.isalnum())\n",
        "print('É maiúsculo?', var.isupper())\n",
        "print('É minúsculo?', var.islower())\n",
        "print('É um título?', var.istitle())"
      ],
      "metadata": {
        "colab": {
          "base_uri": "https://localhost:8080/"
        },
        "id": "q5HdQD-s-_bi",
        "outputId": "803ed777-6ed1-4e7b-bfd4-007f372fa546"
      },
      "execution_count": null,
      "outputs": [
        {
          "output_type": "stream",
          "name": "stdout",
          "text": [
            "Python\n",
            "O tipo primitivo: <class 'str'>\n",
            "É numérico? False\n",
            "Só tem espaços? False\n",
            "É alfabético? True\n",
            "É alfanumérico? True\n",
            "É maiúsculo? False\n",
            "É minúsculo? False\n",
            "É um título? True\n"
          ]
        }
      ]
    },
    {
      "cell_type": "code",
      "source": [
        "#5. Faça um programa que leia um número e mostre seu sucessor e seu antecessor.\n",
        "n = int(input('Digite um número:'))\n",
        "print(f'O atecessor de n é {n - 1}, e o sucessor de n é {n + 1}.')"
      ],
      "metadata": {
        "colab": {
          "base_uri": "https://localhost:8080/"
        },
        "id": "JDILNmRqAO-Y",
        "outputId": "75c6cfb1-dcc3-46ca-fbf8-a8054aa2991b"
      },
      "execution_count": null,
      "outputs": [
        {
          "output_type": "stream",
          "name": "stdout",
          "text": [
            "Digite um número:10\n",
            "O atecessor de n é 9, e o sucessor de n é 11.\n"
          ]
        }
      ]
    },
    {
      "cell_type": "code",
      "source": [
        "#6. Crie um algoritmo que leia um número e mostre o seu dobre, triplo e a raíz quadrada.\n",
        "n = float(input('Digite um número:'))\n",
        "print('O dobre de n:', 2*n)\n",
        "print('O triplo de n:', 3*n)\n",
        "print('A raíz de n:', n**(1/2))"
      ],
      "metadata": {
        "colab": {
          "base_uri": "https://localhost:8080/"
        },
        "id": "tu7SCY4eA3LC",
        "outputId": "eab778ef-41a5-47b3-8686-3b9aa9030186"
      },
      "execution_count": null,
      "outputs": [
        {
          "output_type": "stream",
          "name": "stdout",
          "text": [
            "Digite um número:36\n",
            "O dobre de n: 72.0\n",
            "O triplo de n: 108.0\n",
            "A raíz de n: 6.0\n"
          ]
        }
      ]
    },
    {
      "cell_type": "code",
      "source": [
        "#7. Crie um algoritmo que leia duas notes de um aluno e calcule sua média aritmética.\n",
        "n1 = float(input('Digite a primeira nota:'))\n",
        "n2 = float(input('Digite a seguda nota:'))\n",
        "print(f'A média aritmética das notas é: {(n1+n2)/2}.')"
      ],
      "metadata": {
        "colab": {
          "base_uri": "https://localhost:8080/"
        },
        "id": "43g4DoHEBY61",
        "outputId": "954e298b-c677-480e-ff7d-0e7c584597ec"
      },
      "execution_count": null,
      "outputs": [
        {
          "output_type": "stream",
          "name": "stdout",
          "text": [
            "Digite a primeira nota:9.5\n",
            "Digite a seguda nota:8.9\n",
            "A média aritmética das notas é: 9.2.\n"
          ]
        }
      ]
    },
    {
      "cell_type": "code",
      "source": [
        "#8. Crie um algoritmo que leia um valor em metros e mostre sua conversão em cm e mm.\n",
        "n = float(input('Digite o valor:'))\n",
        "print(f'Valor em metros: {n}')\n",
        "print(f'Valor em centímetros: {n*100}')\n",
        "print(f'Valor em milimetros: {n*1000}')"
      ],
      "metadata": {
        "colab": {
          "base_uri": "https://localhost:8080/"
        },
        "id": "iRwmEuxOB-7M",
        "outputId": "6cd7b078-f27f-46c3-c3aa-2037a8ebc4b4"
      },
      "execution_count": null,
      "outputs": [
        {
          "output_type": "stream",
          "name": "stdout",
          "text": [
            "Digite o valor:1.80\n",
            "Valor em metros: 1.8\n",
            "Valor em centímetros: 180.0\n",
            "Valor em milimetros: 1800.0\n"
          ]
        }
      ]
    },
    {
      "cell_type": "code",
      "source": [
        "#9. Crie um algoritmo que leia um número e mostre sua tabuada:\n",
        "n = int(input('Digite um número inteiro: '))\n",
        "print()\n",
        "print('**TABUADA**')\n",
        "print('-'*12)\n",
        "for i in range(11):\n",
        "  print(f'{n} x {i} = {n*i}')\n",
        "print('-'*12)"
      ],
      "metadata": {
        "colab": {
          "base_uri": "https://localhost:8080/"
        },
        "id": "i2EBXXp3DG9a",
        "outputId": "b3e90621-873f-43f9-9cf9-2fba20ba10e9"
      },
      "execution_count": null,
      "outputs": [
        {
          "output_type": "stream",
          "name": "stdout",
          "text": [
            "Digite um número inteiro: 9\n",
            "\n",
            "**TABUADA**\n",
            "------------\n",
            "9 x 0 = 0\n",
            "9 x 1 = 9\n",
            "9 x 2 = 18\n",
            "9 x 3 = 27\n",
            "9 x 4 = 36\n",
            "9 x 5 = 45\n",
            "9 x 6 = 54\n",
            "9 x 7 = 63\n",
            "9 x 8 = 72\n",
            "9 x 9 = 81\n",
            "9 x 10 = 90\n",
            "------------\n"
          ]
        }
      ]
    },
    {
      "cell_type": "code",
      "source": [
        "#10. Crie um algoritmo que leia um vaor monetário em reais e mostre quanto dólares pode ser comprados.\n",
        "n_real = float(input('Valor em real: R$ '))\n",
        "valor_dol = 5.13\n",
        "print(f'Pode ser comprado US${round(n_real/valor_dol, 2)}')"
      ],
      "metadata": {
        "colab": {
          "base_uri": "https://localhost:8080/"
        },
        "id": "ppUE3tDJD1Fe",
        "outputId": "703bd3e6-6f65-4519-b306-79710c701f30"
      },
      "execution_count": null,
      "outputs": [
        {
          "output_type": "stream",
          "name": "stdout",
          "text": [
            "Valor em real: R$ 11\n",
            "Pode ser comprado US$2.14\n"
          ]
        }
      ]
    },
    {
      "cell_type": "code",
      "source": [
        "#11. Faça um programa que leia a largura e a altura de uma parede em metros, calcule a sua área e a quantidade de tinta \n",
        "#necessária para pintá-la, sabendo que cada litro de tinta pinta uma área de 2 metros quadrados.\n",
        "larg = float(input('Largura da parede em metros: '))\n",
        "alt = float(input('Altura da parede em metros: '))\n",
        "\n",
        "area = round(larg*alt, 2)\n",
        "n_latas = int(area/2) + (1 if (area/2)%int(area/2) != 0 else 0)\n",
        "\n",
        "print(f'A área da parede: {area}m²')\n",
        "print(f'Considerando que uma lata de tinta pinta 2m², será necessário {n_latas} latas de tinta. ')"
      ],
      "metadata": {
        "colab": {
          "base_uri": "https://localhost:8080/"
        },
        "id": "XOeoCwAZE_Ii",
        "outputId": "12869cb7-6ce8-4f01-916a-edf7e719cb5a"
      },
      "execution_count": null,
      "outputs": [
        {
          "output_type": "stream",
          "name": "stdout",
          "text": [
            "Largura da parede em metros: 6.3\n",
            "Altura da parede em metros: 6.2\n",
            "A área da parede: 39.06m²\n",
            "Considerando que uma lata de tinta pinta 2m², será necessário 20 latas de tinta. \n"
          ]
        }
      ]
    },
    {
      "cell_type": "code",
      "source": [
        "#12. Faça um algoritmo que leia o preço de um produto e mostre seu novo preço, com 5% de desconto.\n",
        "valor = float(input('Valor do produto: R$'))\n",
        "print(f'O valor do produto com 5% de desconto é R$ {round(valor*0.95,2)}')"
      ],
      "metadata": {
        "colab": {
          "base_uri": "https://localhost:8080/"
        },
        "id": "rZFtQeH1GnCJ",
        "outputId": "fdb94894-011e-4637-a0f7-4b6cdb2095d7"
      },
      "execution_count": null,
      "outputs": [
        {
          "output_type": "stream",
          "name": "stdout",
          "text": [
            "Valor do produto: R$123.95\n",
            "O valor do produto com 5% de desconto é R$ 117.75\n"
          ]
        }
      ]
    },
    {
      "cell_type": "code",
      "source": [
        "#13. Faça um algoritmo que leia o salário de um funcionário e mostre seu novo salário, com 15% de aumento.\n",
        "salario = float(input('O valor antigo do funcionário: R$'))\n",
        "print(f'O salário do funcionário com 15% passou a ser R$ {round(salario*1.15, 2)}')"
      ],
      "metadata": {
        "colab": {
          "base_uri": "https://localhost:8080/"
        },
        "id": "R3ljDDqZIWPg",
        "outputId": "6f13da25-63b8-4600-815b-b72787408d52"
      },
      "execution_count": null,
      "outputs": [
        {
          "output_type": "stream",
          "name": "stdout",
          "text": [
            "O valor antigo do funcionário: R$4319.43\n",
            "O salário do funcionário com 15% passou a ser R$ 4967.34\n"
          ]
        }
      ]
    },
    {
      "cell_type": "code",
      "source": [
        "#14. Escreva um programa que converta uma temperatura digitando em graus Celsius e converta para graus Fahrenheit.\n",
        "celsius = float(input('Escreva uma temperatura em Celsius:'))\n",
        "fahrenheit = (celsius *(9/5)) + 32\n",
        "print(f'{celsius}°C equivale a  {round(fahrenheit,2)}°F.') "
      ],
      "metadata": {
        "colab": {
          "base_uri": "https://localhost:8080/"
        },
        "id": "6qN15jMGLcsi",
        "outputId": "53b789a0-fa91-4f4b-eb8c-a1ff38bcc186"
      },
      "execution_count": null,
      "outputs": [
        {
          "output_type": "stream",
          "name": "stdout",
          "text": [
            "Escreva uma temperatura em Celsius:31.5\n",
            "31.5°C equivale a  88.7°F.\n"
          ]
        }
      ]
    },
    {
      "cell_type": "code",
      "source": [
        "#15. Escreva um programa que pergunte a quantidade de Km percorridos por um carro alugado e a quantidade de dias pelos quais ele \n",
        "#foi alugado. Calcule o preço a pagar, sabendo que o carro custa R$60 por dia e R$0,15 por Km rodado.\n",
        "print('---CALCULADORA DO ALUGUEL DO AUTOMÓVEL----')\n",
        "print()\n",
        "dias = int(input('Quantidade de dias que o carro foi alugado:'))\n",
        "km = float(input('Quantidade de km percorridos:'))\n",
        "print()\n",
        "print(f'Valor referente aos dias alugados: R${dias*60.0}')\n",
        "print(f'Valor referente aos km rodados: R${km*0.15}')\n",
        "print('TOTAL: R${:.2f}'.format(round(dias*60 + km*0.15, 2)))\n",
        "print('-'*40)"
      ],
      "metadata": {
        "colab": {
          "base_uri": "https://localhost:8080/"
        },
        "id": "83e1S90dSTJZ",
        "outputId": "77c98477-3a56-4f6d-da2d-dcf28f681ed4"
      },
      "execution_count": null,
      "outputs": [
        {
          "output_type": "stream",
          "name": "stdout",
          "text": [
            "---CALCULADORA DO ALUGUEL DO AUTOMÓVEL----\n",
            "\n",
            "Quantidade de dias que o carro foi alugado:8\n",
            "Quantidade de km percorridos:720\n",
            "\n",
            "Valor referente aos dias alugados: R$480.0\n",
            "Valor referente aos km rodados: R$108.0\n",
            "TOTAL: R$588.00\n",
            "----------------------------------------\n"
          ]
        }
      ]
    },
    {
      "cell_type": "code",
      "source": [
        "#16. Crie um programa que leia um número Real qualquer pelo teclado e mostre na tela a sua porção Inteira.\n",
        "n = float(input('Digite um número: '))\n",
        "\n",
        "n_aux = n%(int(n))\n",
        "n_int = n - n_aux\n",
        "\n",
        "print('A porção inteira do número é:', int(n_int))\n",
        "print('A porção fracionária do número é:', float(n_aux))"
      ],
      "metadata": {
        "colab": {
          "base_uri": "https://localhost:8080/"
        },
        "id": "IqVBBtzuTwKE",
        "outputId": "ec8e3526-af34-4c2a-8704-a81e14a92e25"
      },
      "execution_count": null,
      "outputs": [
        {
          "output_type": "stream",
          "name": "stdout",
          "text": [
            "Digite um número: 8.5\n",
            "A porção inteira do número é: 8\n",
            "A porção fracionária do número é: 0.5\n"
          ]
        }
      ]
    },
    {
      "cell_type": "code",
      "source": [
        "#17. Faça um programa que leia o comprimento do cateto oposto e do cateto adjacente de um triângulo retângulo. Calcule e mostre o comprimento da hipotenusa.\n",
        "cat_o = float(input('Medida do Cateto Oposto: '))\n",
        "cat_a = float(input('Medida do Cateto Adjacente '))\n",
        "\n",
        "hip = ((cat_o**2) + (cat_a**2))**(1/2)\n",
        "\n",
        "print('A medida da Hipotenusa é: {:.2f}.'.format(hip))"
      ],
      "metadata": {
        "colab": {
          "base_uri": "https://localhost:8080/"
        },
        "id": "9tEVhfNmUxzQ",
        "outputId": "b116a7b0-42fe-4747-8f24-aefca64969b3"
      },
      "execution_count": null,
      "outputs": [
        {
          "output_type": "stream",
          "name": "stdout",
          "text": [
            "Medida do Cateto Oposto: 3.5\n",
            "Medida do Cateto Adjacente 4.75\n",
            "A medida da Hipotenusa é: 5.90.\n"
          ]
        }
      ]
    },
    {
      "cell_type": "code",
      "source": [
        "#18. Faça um programa que leia um ângulo qualquer e mostre na tela o valor do seno, cosseno e tangente desse ângulo.\n",
        "import math\n",
        "\n",
        "ang = float(input('Digite um ângulo em graus: '))\n",
        "ang = math.radians(ang)\n",
        "\n",
        "print()\n",
        "print('O seno do ângulo dado é: {:.2f}'. format(math.sin(ang)))\n",
        "print('O cosseno do ângulo dado é: {:.2f}'. format(math.cos(ang)))\n",
        "print('A tangente do ângulo dado é: {:.2f}'. format(math.tan(ang)))"
      ],
      "metadata": {
        "colab": {
          "base_uri": "https://localhost:8080/"
        },
        "id": "L3TsIJ_KWWtB",
        "outputId": "447a7189-75e6-4920-b0d9-d5c1f9639fcb"
      },
      "execution_count": null,
      "outputs": [
        {
          "output_type": "stream",
          "name": "stdout",
          "text": [
            "Digite um ângulo em graus: 30\n",
            "\n",
            "O seno do ângulo dado é: 0.50\n",
            "O cosseno do ângulo dado é: 0.87\n",
            "A tangente do ângulo dado é: 0.58\n"
          ]
        }
      ]
    },
    {
      "cell_type": "code",
      "source": [
        "# 19. Um professor quer sortear um dos seus quatro alunos para apagar o quadro. Faça um programa que ajude ele, \n",
        "# lendo o nome dos alunos e escrevendo na tela o nome do escolhido.\n",
        "import random\n",
        "\n",
        "alunos = input('Digite os nomes dos alunos separados por espaço:').split()\n",
        "print(f'O aluno sorteado foi: {random.choice(alunos)}')"
      ],
      "metadata": {
        "colab": {
          "base_uri": "https://localhost:8080/"
        },
        "id": "gVibs302YdNb",
        "outputId": "ca367bbf-e521-45dd-a629-6fa7ebfed62d"
      },
      "execution_count": null,
      "outputs": [
        {
          "output_type": "stream",
          "name": "stdout",
          "text": [
            "Digite os nomes dos alunos separados por espaço:Ingrid Lindona\n",
            "O aluno sorteado foi: Ingrid\n"
          ]
        }
      ]
    },
    {
      "cell_type": "code",
      "source": [
        "# 20. O mesmo professor do desafio 019 quer sortear a ordem de apresentação de trabalhos dos alunos. \n",
        "# Faça um programa que leia o nome dos quatro alunos e mostre a ordem sorteada.\n",
        "import random\n",
        "\n",
        "a1 = input('Primeiro aluno: ')\n",
        "a2 = input('Segundo aluno: ')\n",
        "a3 = input('Terceiro aluno: ')\n",
        "a4 = input('Quarto aluno:')\n",
        "lista = [a1, a2, a3, a4]\n",
        "\n",
        "lista_sort = random.sample(lista, len(lista))\n",
        "\n",
        "print()\n",
        "print('A ordem de apresentação sorteada é:')\n",
        "print(lista_sort)"
      ],
      "metadata": {
        "colab": {
          "base_uri": "https://localhost:8080/"
        },
        "id": "Yh6cbz55ZegQ",
        "outputId": "114cc2b3-745e-4ba8-bcdf-2bf2c4f8d4aa"
      },
      "execution_count": null,
      "outputs": [
        {
          "output_type": "stream",
          "name": "stdout",
          "text": [
            "Primeiro aluno: Gabriel\n",
            "Segundo aluno: Ingrid\n",
            "Terceiro aluno: Pedro\n",
            "Quarto aluno:Kauana\n",
            "\n",
            "A ordem de apresentação sorteada é:\n",
            "['Pedro', 'Gabriel', 'Kauana', 'Ingrid']\n"
          ]
        }
      ]
    },
    {
      "cell_type": "code",
      "source": [
        "#21. Crie um programa que leia o nome completo de uma pessoa e mostre: \n",
        "#- O nome com todas as letras maiúsculas e minúsculas.\n",
        "#- Quantas letras ao todo (sem considerar espaços).\n",
        "#- Quantas letras tem o primeiro nome.\n",
        "\n",
        "nome = input('Digite o nome:')\n",
        "nome_mai = nome.upper()\n",
        "nome_min = nome.lower()\n",
        "lista_letra = list(nome.replace(' ',''))\n",
        "n_letras = len(lista_letra)\n",
        "lista_nomes = nome.split()\n",
        "prim_nome = list(lista_nomes[0])\n",
        "len_prim_nome = len(prim_nome)\n",
        "                 \n",
        "\n",
        "print('- Nome Maiúculo:', nome_mai)\n",
        "print('- Nome Minúsculo:', nome_min)\n",
        "print('- Quantas letras ao todo (sem espaço):', n_letras)\n",
        "print('- Quantas letras tem o primeiro nome:', len_prim_nome)"
      ],
      "metadata": {
        "colab": {
          "base_uri": "https://localhost:8080/"
        },
        "id": "44MZN_Y6b5mU",
        "outputId": "28df35f9-964e-46b7-95c3-1039f02c2d5f"
      },
      "execution_count": null,
      "outputs": [
        {
          "output_type": "stream",
          "name": "stdout",
          "text": [
            "Digite o nome:Ingrid Danielly Lipera Vilcenschi\n",
            "- Nome Maiúculo: INGRID DANIELLY LIPERA VILCENSCHI\n",
            "- Nome Minúsculo: ingrid danielly lipera vilcenschi\n",
            "- Quantas letras ao todo (sem espaço): 30\n",
            "- Quantas letras tem o primeiro nome: 6\n"
          ]
        }
      ]
    },
    {
      "cell_type": "code",
      "source": [
        "# 23.Faça um programa que leia um número de 0 a 9999 e mostre na tela cada um dos dígitos separados.\n",
        "n = int(input('Digite um número inteiro de 0 a 9999: '))\n",
        "u = n // 1 % 10\n",
        "d = n // 10 % 10\n",
        "c = n // 100 % 10\n",
        "m = n// 1000 % 10\n",
        "\n",
        "print('Analisando o número:', n)\n",
        "print('Unidade:', u)\n",
        "print('Dezena:', d)\n",
        "print('Centena:', c)\n",
        "print('Milhar', m)\n"
      ],
      "metadata": {
        "colab": {
          "base_uri": "https://localhost:8080/"
        },
        "id": "lUdCOnegkFKC",
        "outputId": "0024580f-2ef3-4b5e-833f-5c07709a44bf"
      },
      "execution_count": null,
      "outputs": [
        {
          "output_type": "stream",
          "name": "stdout",
          "text": [
            "Digite um número inteiro de 0 a 9999: 1234\n",
            "Analisando o número: 1234\n",
            "Unidade: 4\n",
            "Dezena: 3\n",
            "Centena: 2\n",
            "Milhar 1\n"
          ]
        }
      ]
    },
    {
      "cell_type": "code",
      "source": [
        "#24. Crie um programa que leia o nome de uma cidade diga se ela começa ou não com o nome \"SANTO\".\n",
        "cidade = input('Digite o nome da cidade: ').strip().split()\n",
        "prim = cidade[0]\n",
        "prim = prim.lower()\n",
        "\n",
        "if prim == 'santo':\n",
        "  print(True)\n",
        "else:\n",
        "  print(False)"
      ],
      "metadata": {
        "colab": {
          "base_uri": "https://localhost:8080/"
        },
        "id": "4Qpm4psTCZPG",
        "outputId": "8e9ab239-a20e-4585-a53f-4410b6368526"
      },
      "execution_count": null,
      "outputs": [
        {
          "output_type": "stream",
          "name": "stdout",
          "text": [
            "Digite o nome da cidade: Santo\n",
            "True\n"
          ]
        }
      ]
    },
    {
      "cell_type": "code",
      "source": [
        "#25. Crie um programa que leia o nome de uma pessoa e diga se ela tem \"SILVA\" no nome.\n",
        "nome = input('Digite um nome: ').lower().split()\n",
        "\n",
        "'silva' in nome"
      ],
      "metadata": {
        "colab": {
          "base_uri": "https://localhost:8080/"
        },
        "id": "1CIx0Q5vS6SH",
        "outputId": "4628082e-5d44-4515-c439-6f2e7afda976"
      },
      "execution_count": null,
      "outputs": [
        {
          "name": "stdout",
          "output_type": "stream",
          "text": [
            "Digite um nome: gabriel silva\n"
          ]
        },
        {
          "output_type": "execute_result",
          "data": {
            "text/plain": [
              "True"
            ]
          },
          "metadata": {},
          "execution_count": 13
        }
      ]
    },
    {
      "cell_type": "code",
      "source": [
        "#26. Faça um programa que leia uma frase pelo teclado e mostre quantas vezes aparece a letra \"A\", em que posição ela \n",
        "#aparece a primeira vez e em que posição ela aparece a última vez.\n",
        "\n",
        "frase = input('Digite um frase:').strip()\n",
        "frase = frase.lower()\n",
        "\n",
        "n_vezes = frase.count('a')\n",
        "prim_pos = frase.find('a')\n",
        "ult_pos = frase.rfind('a')\n",
        "\n",
        "print(f'A letra A aparece {n_vezes} na frase.')\n",
        "print(f'A primeira letra A aparece na posição {prim_pos}.')\n",
        "print(f'A última letra A aparece na posição {ult_pos}.')"
      ],
      "metadata": {
        "colab": {
          "base_uri": "https://localhost:8080/"
        },
        "id": "YSSQOzXbUE-v",
        "outputId": "e7f4b9d9-f512-44d5-f940-c7e90b00dd07"
      },
      "execution_count": null,
      "outputs": [
        {
          "output_type": "stream",
          "name": "stdout",
          "text": [
            "Digite um frase:o tamdua bandeira\n",
            "A letra A aparece 4 na frase.\n",
            "A primeira letra A aparece na posição 3.\n",
            "A última letra A aparece na posição 16.\n"
          ]
        }
      ]
    },
    {
      "cell_type": "code",
      "source": [
        "#27. Faça um programa que leia o nome completo de uma pessoa, mostrando em seguida o primeiro e o último nome separadamente.\n",
        "nome = input('Digite um nome: ').strip().split()\n",
        "\n",
        "prim_nome = nome[0]\n",
        "ult_nome = nome[-1]\n",
        "\n",
        "print(f'O primeiro nome digitado é {prim_nome}.')\n",
        "print(f'O último nome digitado é {ult_nome}.')"
      ],
      "metadata": {
        "colab": {
          "base_uri": "https://localhost:8080/"
        },
        "id": "VTUcjjXRTcwc",
        "outputId": "1c7f1263-8516-4da5-fc79-93a42c00db13"
      },
      "execution_count": null,
      "outputs": [
        {
          "output_type": "stream",
          "name": "stdout",
          "text": [
            "Digite um nome: MAria silva dos santo dos anjos sando de henrique fazna\n",
            "O primeiro nome digitado é MAria.\n",
            "O último nome digitado é fazna.\n"
          ]
        }
      ]
    },
    {
      "cell_type": "code",
      "source": [
        "#28. Escreva um programa que faça o computador \"pensar\" em um número inteiro entre 0 e 5 e peça para o usuário tentar descobrir qual foi o número escolhido pelo computador. \n",
        "#O programa deverá escrever na tela se o usuário venceu ou perdeu\n",
        "import random as rd\n",
        "import time \n",
        "\n",
        "print('****'*20)\n",
        "print('  JOGO DA ADIVINHAÇÃO - TENTE ADININHAR EM QUE NÚMERO ESTOU PENSANDO DE 0 A 5')\n",
        "print('****'*20)\n",
        "\n",
        "time.sleep(5)\n",
        "\n",
        "print()\n",
        "print('Vamos começar?')\n",
        "print()\n",
        "\n",
        "time.sleep(3)\n",
        "\n",
        "n = int(input('Digite seu palpite: '))\n",
        "n_real = rd.randrange(0, 6, 1)\n",
        "print('Processando...')\n",
        "print()\n",
        "time.sleep(5)\n",
        "\n",
        "if n_real == n:\n",
        "  print(f'Parabéns, você venceu!! ')\n",
        "  print(f'Pensei em {n_real} e você acertou.')\n",
        "else:\n",
        "  print('Eu te venci!!')\n",
        "  print(f'Pensei em {n_real} e você digitou {n}.')"
      ],
      "metadata": {
        "colab": {
          "base_uri": "https://localhost:8080/"
        },
        "id": "V7JVe5QETfQB",
        "outputId": "9fcca8ee-281c-4a16-ad6f-fa68dcb62353"
      },
      "execution_count": null,
      "outputs": [
        {
          "output_type": "stream",
          "name": "stdout",
          "text": [
            "********************************************************************************\n",
            "  JOGO DA ADIVINHAÇÃO - TENTE ADININHAR EM QUE NÚMERO ESTOU PENSANDO DE 0 A 5\n",
            "********************************************************************************\n",
            "\n",
            "Vamos começar?\n",
            "\n",
            "Digite seu palpite: 1\n",
            "Processando...\n",
            "\n",
            "Eu te venci!!\n",
            "Pensei em 5 e você digitou 1.\n"
          ]
        }
      ]
    },
    {
      "cell_type": "code",
      "source": [
        "#29. Escreva um programa que leia a velocidade de um carro. Se ele ultrapassar 80Km/h, mostre uma mensagem dizendo que ele foi multado. \n",
        "#A multa vai custar R$7,00 por cada Km acima do limite.\n",
        "\n",
        "vel = float(input('Digite a velocidade em Km/h: '))\n",
        "print()\n",
        "vel_perm = 80\n",
        "delta = round(vel - vel_perm)\n",
        "multa = 7*delta\n",
        "\n",
        "if vel > vel_perm:\n",
        "  print('VOCÊ ESTÁ COM A VELOCIDADE ACIMA DO PERMITIDO!')\n",
        "  print('VALOR DA MULTA: R$ {:.2f}'.format(multa))\n",
        "else:\n",
        "  print('Tenha um bom dia! Dirija com segurança!')"
      ],
      "metadata": {
        "colab": {
          "base_uri": "https://localhost:8080/"
        },
        "id": "513TMmsZYl0R",
        "outputId": "abf3acb8-63a4-4831-e83e-264ce226127b"
      },
      "execution_count": null,
      "outputs": [
        {
          "output_type": "stream",
          "name": "stdout",
          "text": [
            "Digite a velocidade em Km/h: 110\n",
            "\n",
            "VOCÊ ESTÁ COM A VELOCIDADE ACIMA DO PERMITIDO!\n",
            "VALOR DA MULTA: R$ 210.00\n"
          ]
        }
      ]
    },
    {
      "cell_type": "code",
      "source": [
        "#30. Crie um programa que leia um número inteiro e mostre na tela se ele é PAR ou ÍMPAR.\n",
        "n = int(input('Digite um número: '))\n",
        "print()\n",
        "\n",
        "if n%2 != 0:\n",
        "  print(f'{n} é um número ímpar!')\n",
        "else:\n",
        "  print(f'{n} é um número par!')"
      ],
      "metadata": {
        "colab": {
          "base_uri": "https://localhost:8080/"
        },
        "id": "EOdnF-7XfWwh",
        "outputId": "a8228e28-e5f3-49cf-b423-c14d53dda55c"
      },
      "execution_count": null,
      "outputs": [
        {
          "output_type": "stream",
          "name": "stdout",
          "text": [
            "Digite um número: 19\n",
            "\n",
            "19 é um número ímpar!\n"
          ]
        }
      ]
    },
    {
      "cell_type": "code",
      "source": [
        "#31. Desenvolva um programa que pergunte a distância de uma viagem em Km. Calcule o preço da passagem, cobrando R$0,50 por Km para viagens de \n",
        "#até 200Km e R$0,45 parta viagens mais longas.\n",
        "dist = float(input('Digite a distância da viagem em Km: ')) \n",
        "valor1 = 0.5\n",
        "valor2 = 0.45\n",
        "print()\n",
        "if dist <= 200:\n",
        "  preco = dist*valor1\n",
        "  print(f'Para uma viagem de {dist}Km')\n",
        "  print('O valor será: R${:.2f}'.format(preco))\n",
        "else:\n",
        "  preco = dist*valor2\n",
        "  print(f'Para uma viagem de {dist}Km')\n",
        "  print('O valor da viagem será: R${:.2f}'.format(preco))"
      ],
      "metadata": {
        "colab": {
          "base_uri": "https://localhost:8080/"
        },
        "id": "SuReRG61gKwP",
        "outputId": "f0c413ec-c687-45f4-9ad4-ec90e008e369"
      },
      "execution_count": null,
      "outputs": [
        {
          "output_type": "stream",
          "name": "stdout",
          "text": [
            "Digite a distância da viagem em Km: 210\n",
            "\n",
            "Para uma viagem de 210.0Km\n",
            "O valor da viagem será: R$94.50\n"
          ]
        }
      ]
    },
    {
      "cell_type": "code",
      "source": [
        "#32. Faça um programa que leia um ano qualquer e mostre se ele é bissexto.\n",
        "import datetime\n",
        "\n",
        "ano = int(input('Digite um ano qualquer e descubra se ele foi ou será bissexto (digite 0 para o ano atual): '))\n",
        "print()\n",
        "\n",
        "if ano == 0:\n",
        "  ano = datetime.datetime.now().year\n",
        "\n",
        "\n",
        "if ano % 4 == 0 and ano % 100 != 0:\n",
        "  print(f'{ano} é um ano bissexto!')\n",
        "else:\n",
        "  print(f'{ano} não é um ano bissexto!')"
      ],
      "metadata": {
        "colab": {
          "base_uri": "https://localhost:8080/"
        },
        "id": "fDCpEQR5hf8a",
        "outputId": "cbc88ec9-f00d-46e8-b09e-3dbc0253af2f"
      },
      "execution_count": null,
      "outputs": [
        {
          "output_type": "stream",
          "name": "stdout",
          "text": [
            "Digite um ano qualquer e descubra se ele foi ou será bissexto (digite 0 para o ano atual): 2016\n",
            "\n",
            "2016 é um ano bissexto!\n"
          ]
        }
      ]
    },
    {
      "cell_type": "code",
      "source": [
        "#33. Faça um programa que leia três números e mostre qual é o maior e qual é o menor.\n",
        "n1 = float(input('Digite o primeiro número: '))\n",
        "n2 = float(input('Digite o segundo número: '))\n",
        "n3 = float(input('Digite o terceiro número: '))\n",
        "print()\n",
        "lista = [n1, n2, n3]\n",
        "\n",
        "print('O maior valor digitado foi {:.2f}.'.format(max(lista)))\n",
        "print('O menor valor digitado foi {:.2f}.'.format(min(lista)))"
      ],
      "metadata": {
        "colab": {
          "base_uri": "https://localhost:8080/"
        },
        "id": "-XTznq5QjQFH",
        "outputId": "b37e6e22-4250-442a-8d3a-e9ce13602fd8"
      },
      "execution_count": null,
      "outputs": [
        {
          "output_type": "stream",
          "name": "stdout",
          "text": [
            "Digite o primeiro número: 1.1\n",
            "Digite o segundo número: 1.11\n",
            "Digite o terceiro número: 1.1111\n",
            "\n",
            "O maior valor digitado foi 1.11.\n",
            "O menor valor digitado foi 1.10.\n"
          ]
        }
      ]
    },
    {
      "cell_type": "code",
      "source": [
        "#34. Escreva um programa que pergunte o salário de um funcionário e calcule o valor do seu aumento. \n",
        "#Para salários superiores a R$1250,00, calcule um aumento de 10%. Para os inferiores ou iguais, o aumento é de 15%.\n",
        "\n",
        "sal = float(input('Digite o salário em R$: '))\n",
        "ajuste1 = 1.1\n",
        "ajuste2 = 1.15\n",
        "print()\n",
        "\n",
        "if sal > 1250:\n",
        "  sal_aj = sal*ajuste1\n",
        "  print('Quem ganhava R${:.2f} passará a ganhar R${:.2f}.'.format(sal, sal_aj))\n",
        "else:\n",
        "  sal_aj = sal*ajuste2\n",
        "  print('Quem ganhava R${:.2f} passará a ganhar R${:.2f}.'.format(sal, sal_aj))"
      ],
      "metadata": {
        "colab": {
          "base_uri": "https://localhost:8080/"
        },
        "id": "pCXMNjwwjTXV",
        "outputId": "6601752e-dd15-46f4-cc2e-322637987e50"
      },
      "execution_count": null,
      "outputs": [
        {
          "output_type": "stream",
          "name": "stdout",
          "text": [
            "Digite o salário em R$: 900\n",
            "\n",
            "Quem ganhava R$900.00 passará a ganhar R$1035.00.\n"
          ]
        }
      ]
    },
    {
      "cell_type": "code",
      "source": [
        "#35. Desenvolva um programa que leia o comprimento de três retas e diga ao usuário se elas podem ou não formar um triângulo.\n",
        "print('*'*20)\n",
        "print('Pode ser triângulo?')\n",
        "print('*'*20)\n",
        "print()\n",
        "l1 = float(input('Digite o comprimento da reta 1:'))\n",
        "l2 = float(input('Digite o comprimento da reta 2:'))\n",
        "l3 = float(input('Digite o comprimento da reta 3:'))\n",
        "print()\n",
        "\n",
        "\n",
        "if l1 < l2 + l3 and l2 < l1 + l3 and l3 < l2 + l1:\n",
        "  print('Os seguimentos {:.2f}, {:.2f} e {:.2f} podem formar um triângulo.'.format(l1, l2, l3))\n",
        "else:\n",
        "  print('Os seguimentos {:.2f}, {:.2f} e {:.2f} não podem formar um triângulo.'.format(l1, l2, l3))"
      ],
      "metadata": {
        "colab": {
          "base_uri": "https://localhost:8080/"
        },
        "id": "5v1uSghYoDCZ",
        "outputId": "fb5bc6e3-5c3a-4326-ff15-0c20aeea71ba"
      },
      "execution_count": null,
      "outputs": [
        {
          "output_type": "stream",
          "name": "stdout",
          "text": [
            "********************\n",
            "Pode ser triângulo?\n",
            "********************\n",
            "\n",
            "Digite o comprimento da reta 1:1\n",
            "Digite o comprimento da reta 2:90\n",
            "Digite o comprimento da reta 3:1\n",
            "\n",
            "Os seguimentos 1.00, 90.00 e 1.00 não podem formar um triângulo.\n"
          ]
        }
      ]
    },
    {
      "cell_type": "code",
      "source": [
        "#36. Escreva um programa para aprovar o empréstimo bancário para a compra de uma casa. Pergunte o valor da casa, o salário do comprador e em quantos \n",
        "#anos ele vai pagar. A prestação mensal não pode exceder 30% do salário ou então o empréstimo será negado.\n",
        "\n",
        "valor = float(input('Valor da casa: R$'))\n",
        "sal = float(input('Salário do comprador: R$'))\n",
        "anos = float(input('Quantos anos de financiamento? '))\n",
        "print()\n",
        "\n",
        "sal_percent = sal*0.3\n",
        "prest = valor/(anos*12)\n",
        "\n",
        "if prest > sal_percent:\n",
        "  print('O valor da prestação mensal será de R${:.2f}'.format(prest)) \n",
        "  print('*EMPRÉSTIMO NEGADO!*')\n",
        "else:\n",
        "  print('O valor da prestação mensal será de R${:.2f}'.format(prest)) \n",
        "  print('*EMPRÉSTIMO CONCEDIDO!*')\n"
      ],
      "metadata": {
        "colab": {
          "base_uri": "https://localhost:8080/"
        },
        "id": "n4mhco1mo-c_",
        "outputId": "8bf21615-a0f7-47f2-864a-8bc93001d877"
      },
      "execution_count": null,
      "outputs": [
        {
          "output_type": "stream",
          "name": "stdout",
          "text": [
            "Valor da casa: R$85000\n",
            "Salário do comprador: R$5000\n",
            "Quantos anos de financiamento? 5\n",
            "\n",
            "O valor da prestação mensal será de R$1416.67\n",
            "*EMPRÉSTIMO CONCEDIDO!*\n"
          ]
        }
      ]
    },
    {
      "cell_type": "code",
      "source": [
        "#37. Escreva um programa em Python que leia um número inteiro qualquer e peça para o usuário escolher qual será a base de conversão:\n",
        "# 1 para binário, 2 para octal e 3 para hexadecimal.\n",
        "n = int(input('Digite um número inteiro: '))\n",
        "print()\n",
        "\n",
        "print('Escolha para qual base você quer a transformação:')\n",
        "print('[1] Binário')\n",
        "print('[2] Octal')\n",
        "print('[3] Hexadecimal')\n",
        "opt = int(input('Digite a opção: '))\n",
        "print()\n",
        "\n",
        "if opt == 1:\n",
        "  print(f'{n} convertido para Binário é {bin(n)[2:]}.')\n",
        "elif opt == 2:\n",
        "  print('{} convertido para Octal é {}.'.format(n, oct(n)[2:]))\n",
        "elif opt == 3:\n",
        "  print('{} convertido para Hexadecimal é {}.'.format(n, hex(n)[2:]))\n",
        "else:\n",
        "  print('A opção digitada não existe!')\n",
        "\n"
      ],
      "metadata": {
        "colab": {
          "base_uri": "https://localhost:8080/"
        },
        "id": "lGQ4wWsbpAxy",
        "outputId": "63efd51a-9032-4665-9fa9-db855aeb742d"
      },
      "execution_count": null,
      "outputs": [
        {
          "output_type": "stream",
          "name": "stdout",
          "text": [
            "Digite um número inteiro: 3\n",
            "\n",
            "Escolha para qual base você quer a transformação:\n",
            "[1] Binário\n",
            "[2] Octal\n",
            "[3] Hexadecimal\n",
            "Digite a opção: 1\n",
            "\n",
            "3 convertido para Binário é 11.\n"
          ]
        }
      ]
    },
    {
      "cell_type": "code",
      "source": [
        "# 38.Escreva um programa que leia dois números inteiros e compare-os. mostrando na tela uma mensagem:\n",
        "#- O primeiro valor é maior\n",
        "#- O segundo valor é maior\n",
        "#- Não existe valor maior, os dois são iguais\n",
        "n1 = float(input('Digite o primeiro valor: '))\n",
        "n2 = float(input('Digite o segundo valor:'))\n",
        "print()\n",
        "\n",
        "if n1 > n2:\n",
        "  print('O primeiro valor é maior!')\n",
        "elif n2 > n1:\n",
        "  print('O segundo valor é maior!')\n",
        "else:\n",
        "  print('Não existe valor maior, os dois são iguais!')"
      ],
      "metadata": {
        "colab": {
          "base_uri": "https://localhost:8080/"
        },
        "id": "LS0w40prsZ_P",
        "outputId": "b623fa74-f5bf-4e20-864c-5284997cb7a9"
      },
      "execution_count": null,
      "outputs": [
        {
          "output_type": "stream",
          "name": "stdout",
          "text": [
            "Digite o primeiro valor: 21\n",
            "Digite o segundo valor:12\n",
            "\n",
            "O primeiro valor é maior!\n"
          ]
        }
      ]
    },
    {
      "cell_type": "code",
      "source": [
        "#39. Faça um programa que leia o ano de nascimento de um jovem e informe, de acordo com a sua idade, se ele ainda vai se alistar ao serviço militar, \n",
        "#se é a hora exata de se alistar ou se já passou do tempo do alistamento. Seu programa também deverá mostrar o tempo que falta ou que passou do prazo.\n",
        "import datetime\n",
        "\n",
        "ano = int(input('Digite seu ano de nascimento: '))\n",
        "ano_atual =  datetime.datetime.now().year\n",
        "print()\n",
        "\n",
        "if ano_atual - ano < 18:\n",
        "  print('Quem nasceu em {} tem {} anos em {}.'.format(ano, ano_atual - ano, ano_atual))\n",
        "  print('Faltam {} anos para o alistamento.'.format(18 - (ano_atual - ano)))\n",
        "  print('Seu alistamento será em {}.'.format(ano_atual + (18 - (ano_atual - ano))))\n",
        "elif ano_atual - ano > 18:\n",
        "  print('Quem nasceu em {} tem {} anos em {}.'.format(ano, ano_atual - ano, ano_atual))\n",
        "  print('Você deveria ter se alistado há {} anos.'.format(-(18 - (ano_atual - ano))))\n",
        "  print('Seu alistamento foi em {}.'.format(ano_atual + (18 - (ano_atual - ano))))\n",
        "else:\n",
        "  print('Quem nasceu em {} tem {} anos em {}.'.format(ano, ano_atual - ano, ano_atual))\n",
        "  print('Você se alistará esse ano, BOA SORTE!')"
      ],
      "metadata": {
        "id": "3qzek37csfp1",
        "colab": {
          "base_uri": "https://localhost:8080/"
        },
        "outputId": "832bc1b4-d50d-45ca-9767-c0a5edf4b5f0"
      },
      "execution_count": null,
      "outputs": [
        {
          "output_type": "stream",
          "name": "stdout",
          "text": [
            "Digite seu ano de nascimento: 2004\n",
            "\n",
            "Quem nasceu em 2004 tem 18 anos em 2022.\n",
            "Você se alistará esse ano, BOA SORTE!.\n"
          ]
        }
      ]
    },
    {
      "cell_type": "code",
      "source": [
        "#40. Crie um programa que leia duas notas de um aluno e calcule sua média, mostrando uma mensagem no final, de acordo com a média atingida:\n",
        "#- Média abaixo de 5.0: REPROVADO\n",
        "#- Média entre 5.0 e 6.9: RECUPERAÇÃO\n",
        "#- Média 7.0 ou superior: APROVADO\n",
        "\n",
        "n1 = float(input('Digite a primeira nota: '))\n",
        "n2 = float(input('Digite a segunda nota: '))\n",
        "print()\n",
        "\n",
        "media = (n1 + n2)/2\n",
        "\n",
        "if media >= 7:\n",
        "  print('Sua média foi {:.2f}.'.format(media))\n",
        "  print('Situação: APROVADO')\n",
        "elif media < 5:\n",
        "  print('Sua média foi {:.2f}.'.format(media))\n",
        "  print('Situação: REPROVADO')\n",
        "else:\n",
        "  print('Sua média foi {:.2f}.'.format(media))\n",
        "  print('Situação: RECUPERAÇÃO')"
      ],
      "metadata": {
        "colab": {
          "base_uri": "https://localhost:8080/"
        },
        "id": "zcoXhnPLZ4-H",
        "outputId": "d4d25534-5d75-4485-df4e-05cfc12c4c3d"
      },
      "execution_count": null,
      "outputs": [
        {
          "output_type": "stream",
          "name": "stdout",
          "text": [
            "Digite a primeira nota: 5\n",
            "Digite a segunda nota: 7\n",
            "\n",
            "Sua média foi 6.00.\n",
            "Situação: RECUPERAÇÃO\n"
          ]
        }
      ]
    },
    {
      "cell_type": "code",
      "source": [
        "#41. A Confederação Nacional de Natação precisa de um programa que leia o ano de nascimento de um atleta e mostre sua categoria, de acordo com a idade:\n",
        "#- Até 9 anos: MIRIM\n",
        "#- Até 14 anos: INFANTIL\n",
        "#- Até 19 anos: JÚNIOR\n",
        "#- Até 25 anos: SÊNIOR\n",
        "#- Acima de 25 anos: MASTER\n",
        "\n",
        "ano = int(input('Digite seu ano de nascimento:'))\n",
        "idade =  datetime.datetime.now().year - ano\n",
        "print()\n",
        "\n",
        "if idade > 25:\n",
        "  print(f'O atleta tem {idade} anos')\n",
        "  print('Categoria: MASTER')\n",
        "elif idade <= 9:\n",
        "  print(f'O atleta tem {idade} anos')\n",
        "  print('Categoria: MIRIM')\n",
        "elif idade > 19 or idade == 25:\n",
        "  print(f'O atleta tem {idade} anos')\n",
        "  print('Categoria: SÊNIOR')\n",
        "elif idade > 14 or idade == 19:\n",
        "  print(f'O atleta tem {idade} anos')\n",
        "  print('Categoria: JÚNIOR')\n",
        "elif idade > 9 or idade == 14:\n",
        "  print(f'O atleta tem {idade} anos')\n",
        "  print('Categoria: INFATIL')"
      ],
      "metadata": {
        "colab": {
          "base_uri": "https://localhost:8080/"
        },
        "id": "AxMMPoR6jzhe",
        "outputId": "6deadbbb-2f56-489b-9bf4-367dff5811a5"
      },
      "execution_count": null,
      "outputs": [
        {
          "output_type": "stream",
          "name": "stdout",
          "text": [
            "Digite seu ano de nascimento:1995\n",
            "\n",
            "O atleta tem 27 anos\n",
            "Categoria: MASTER\n"
          ]
        }
      ]
    },
    {
      "cell_type": "code",
      "source": [
        "#42. Refaça o DESAFIO 035 dos triângulos, acrescentando o recurso de mostrar que tipo de triângulo será formado:\n",
        "#- EQUILÁTERO: todos os lados iguais\n",
        "#- ISÓSCELES: dois lados iguais, um diferente\n",
        "#- ESCALENO: todos os lados diferentes\n",
        "print('*'*25)\n",
        "print('Pode ser triângulo? Qual?')\n",
        "print('*'*25)\n",
        "print()\n",
        "l1 = float(input('Digite o comprimento da reta 1:'))\n",
        "l2 = float(input('Digite o comprimento da reta 2:'))\n",
        "l3 = float(input('Digite o comprimento da reta 3:'))\n",
        "print()\n",
        "\n",
        "\n",
        "if l1 < l2 + l3 and l2 < l1 + l3 and l3 < l2 + l1:\n",
        "  print('Os seguimentos {:.2f}, {:.2f} e {:.2f} podem formar um triângulo.'.format(l1, l2, l3))\n",
        "  if l1 == l2 and l2 == l3:\n",
        "    print('Tipo: Equilátero')\n",
        "  elif l1 == l2 or l1 == l3 or l2 == l3:\n",
        "    print('Tipo: Isósceles')\n",
        "  else:\n",
        "    print('Tipo: Scaleno')\n",
        "else:\n",
        "  print('Os seguimentos {:.2f}, {:.2f} e {:.2f} não podem formar um triângulo.'.format(l1, l2, l3))\n"
      ],
      "metadata": {
        "colab": {
          "base_uri": "https://localhost:8080/"
        },
        "id": "kGOE_hLemVDp",
        "outputId": "cd63add8-72d0-425f-b7d8-ddeb1df0a6fc"
      },
      "execution_count": null,
      "outputs": [
        {
          "output_type": "stream",
          "name": "stdout",
          "text": [
            "******************************\n",
            "Pode ser triângulo? Qual?\n",
            "******************************\n",
            "\n",
            "Digite o comprimento da reta 1:4\n",
            "Digite o comprimento da reta 2:4\n",
            "Digite o comprimento da reta 3:4\n",
            "\n",
            "Os seguimentos 4.00, 4.00 e 4.00 podem formar um triângulo.\n",
            "Tipo: Equilátero\n"
          ]
        }
      ]
    },
    {
      "cell_type": "code",
      "source": [
        "#43. Desenvolva uma lógica que leia o peso e a altura de uma pessoa, calcule seu Índice de Massa Corporal (IMC) e mostre seu status, de acordo com a tabela abaixo:\n",
        "#- IMC abaixo de 18,5: Abaixo do Peso\n",
        "#- Entre 18,5 e 25: Peso Ideal\n",
        "#- 25 até 30: Sobrepeso\n",
        "#- 30 até 40: Obesidade\n",
        "#- Acima de 40: Obesidade Mórbida\n",
        "\n",
        "print('*'*21)\n",
        "print('* CALCULADORA IMC *')\n",
        "print('*'*21)\n",
        "print()\n",
        "altura = float(input('Digite sua altura em metros: '))\n",
        "peso = float(input('Digite seu peso em Kg: '))\n",
        "\n",
        "imc = peso/(altura**2)\n",
        "\n",
        "if imc > 40:\n",
        "  print('IMC: {:.2f}'.format(imc))\n",
        "  print('Situação: Obesidade Mórbida')\n",
        "elif imc >= 30:\n",
        "  print('IMC: {:.2f}'.format(imc))\n",
        "  print('Situação: Obesidade')\n",
        "elif imc >= 25:\n",
        "  print('IMC: {:.2f}'.format(imc))\n",
        "  print('Situação: Soprepeso')\n",
        "elif imc >= 18.5:\n",
        "  print('IMC: {:.2f}'.format(imc))\n",
        "  print('Situação: Peso ideal')\n",
        "else:\n",
        "  print('IMC: {:.2f}'.format(imc))\n",
        "  print('Situação: Abaixo do peso')\n"
      ],
      "metadata": {
        "colab": {
          "base_uri": "https://localhost:8080/"
        },
        "id": "gOHAwA8WMyYm",
        "outputId": "66f36ca2-3741-4174-c1b2-b9403ccb6009"
      },
      "execution_count": null,
      "outputs": [
        {
          "output_type": "stream",
          "name": "stdout",
          "text": [
            "*********************\n",
            "* CALCULADORA IMC *\n",
            "*********************\n",
            "\n",
            "Digite sua altura em metros: 1.84\n",
            "Digite seu peso em Kg: 85.9\n",
            "IMC: 25.37\n",
            "Situação: Soprepeso\n"
          ]
        }
      ]
    },
    {
      "cell_type": "code",
      "source": [
        "#44. Elabore um programa que calcule o valor a ser pago por um produto, considerando o seu preço normal e condição de pagamento:\n",
        "#- à vista dinheiro/cheque: 10% de desconto\n",
        "#- à vista no cartão: 5% de desconto\n",
        "#- em até 2x no cartão: preço formal\n",
        "#- 3x ou mais no cartão: 20% de juros\n",
        "\n",
        "print('*'*13)\n",
        "print('LOJA OLIVEIRA')\n",
        "print('*'*13)\n",
        "print()\n",
        "\n",
        "preço = float(input('Valor da compra: R$ '))\n",
        "print()\n",
        "print('FORMAS DE PAGAMENTO:')\n",
        "print('[1] à vista no dinheiro ou cheque')\n",
        "print('[2] à vista no cartão')\n",
        "print('[3] 2x no cartão')\n",
        "print('[4] 3x ou mais no cartão')\n",
        "opt = int(input('Digite o número da sua escolha: '))\n",
        "valor = 0\n",
        "print()\n",
        "\n",
        "if opt == 1:\n",
        "  valor = 0.9*preço\n",
        "  print('Sua compra de R${:.2f} sairá por R${:.2f} à vista no dinheiro ou cheque.'.format(preço, valor))\n",
        "elif opt == 2:\n",
        "  valor = 0.95*preço \n",
        "  print('Sua compra de R${:.2f} sairá por R${:.2f} à vista no cartão.'.format(preço, valor))\n",
        "elif opt == 3:\n",
        "  valor_parc = preço/2\n",
        "  print('Sua compra sairá por R${:.2f} em duas vezes de R${:.2f}.'.format(preço, valor_parc))\n",
        "elif opt == 4:\n",
        "  parc = int(input('Quantas parcelas? '))\n",
        "  valor_total = 1.2*preço\n",
        "  valor_parc = valor_total/parc\n",
        "  print('Sua compra de R${:.2f} sairá por R${:.2f} em {} vezs de R${:.2f}.'.format(preço, valor_total, parc, valor_parc))\n",
        "else:\n",
        "  print('Não há essa forma de pagamento.')\n"
      ],
      "metadata": {
        "id": "wFaXz2QJN_Zh",
        "colab": {
          "base_uri": "https://localhost:8080/"
        },
        "outputId": "6b38a864-1cb7-44a6-ea13-c67bc4b18e12"
      },
      "execution_count": null,
      "outputs": [
        {
          "output_type": "stream",
          "name": "stdout",
          "text": [
            "*************\n",
            "LOJA OLIVEIRA\n",
            "*************\n",
            "\n",
            "Valor da compra: R$ 1620\n",
            "\n",
            "FORMAS DE PAGAMENTO:\n",
            "[1] à vista no dinheiro ou cheque\n",
            "[2] à vista no cartão\n",
            "[3] 2x no cartão\n",
            "[4] 3x ou mais no cartão\n",
            "Digite o número da sua escolha: 3\n",
            "\n",
            "Sua compra sairá por R$1620.00 em duas vezes de R$810.00.\n"
          ]
        }
      ]
    },
    {
      "cell_type": "code",
      "source": [
        "#45. Crie um programa que faça o computador jogar Jokenpô com você.\n",
        "import random\n",
        "import time\n",
        "\n",
        "print('='*16)\n",
        "print('== JO KEN PÔ ==')\n",
        "print('='*16)\n",
        "print()\n",
        "time.sleep(1)\n",
        "\n",
        "print('Suas opções de jogada:')\n",
        "print('[1] Pedra')\n",
        "print('[2] Papel')\n",
        "print('[3] Tesoura')\n",
        "opt = int(input('Digite o número da sua jogada: '))\n",
        "lista_jog = [1,2,3]\n",
        "opt_comp = random.choice(lista_jog)\n",
        "print()\n",
        "\n",
        "time.sleep(1)\n",
        "print('JO')\n",
        "time.sleep(1)\n",
        "print('KEN')\n",
        "time.sleep(1)\n",
        "print('PÔ')\n",
        "time.sleep(1)\n",
        "print()\n",
        "\n",
        "print('=-'*14)\n",
        "if opt == 1:\n",
        "  print('-> Jogador jogou pedra.')\n",
        "elif opt == 2:\n",
        "  print('-> Jogador jogou papel.')\n",
        "elif opt == 3:\n",
        "  print('-> Jogador jogou tesoura.')\n",
        "\n",
        "if opt_comp == 1:\n",
        "  print('-> Computador jogou pedra.')\n",
        "elif opt_comp == 2:\n",
        "  print('-> Computador jogou papel.')\n",
        "elif opt_comp == 3:\n",
        "  print('-> Computador jogou tesoura.')\n",
        "print('=-'*14)\n",
        "print()\n",
        "\n",
        "if opt == 1 and opt_comp == 1:\n",
        "  print('EMPATE!')\n",
        "elif opt == 2 and opt_comp == 1:\n",
        "  print('JOGADOR VENCEU!')\n",
        "elif opt == 3 and opt_comp == 1:\n",
        "  print('COMPUTADOR VENCEU!')\n",
        "elif opt == 1 and opt_comp == 2:\n",
        "  print('COMPUTADOR VENCEU!')\n",
        "elif opt == 2 and opt_comp == 2:\n",
        "  print('EMPATE!')\n",
        "elif opt == 3 and opt_comp == 2:\n",
        "  print('JOGADOR VENCEU!')\n",
        "elif opt == 1 and opt_comp == 3:\n",
        "  print('JOGADOR VENCEU!')\n",
        "elif opt == 2 and opt_comp == 3:\n",
        "  print('COMPUTADOR VENCEU!')\n",
        "elif opt == 3 and opt_comp == 3:\n",
        "  print('EMPATE!')"
      ],
      "metadata": {
        "id": "2_ClemYW7HR-",
        "colab": {
          "base_uri": "https://localhost:8080/"
        },
        "outputId": "6e0fe48f-f040-4cfa-c883-a31fb349fc68"
      },
      "execution_count": null,
      "outputs": [
        {
          "output_type": "stream",
          "name": "stdout",
          "text": [
            "================\n",
            "== JO KEN PÔ ==\n",
            "================\n",
            "\n",
            "Suas opções de jogada:\n",
            "[1] Pedra\n",
            "[2] Papel\n",
            "[3] Tesoura\n",
            "Digite o número da sua jogada: 1\n",
            "\n",
            "JO\n",
            "KEN\n",
            "PÔ\n",
            "\n",
            "=-=-=-=-=-=-=-=-=-=-=-=-=-=-\n",
            "-> Jogador jogou pedra.\n",
            "-> Computador jogou tesoura.\n",
            "=-=-=-=-=-=-=-=-=-=-=-=-=-=-\n",
            "\n",
            "JOGADOR VENCEU!\n"
          ]
        }
      ]
    },
    {
      "cell_type": "code",
      "source": [
        "#46. Faça um programa que mostre na tela uma contagem regressiva para o estouro de fogos de artifício, indo de 10 até 0, com uma pausa de 1 segundo entre eles.\n",
        "import time\n",
        "\n",
        "for i in range(10, 0, -1):\n",
        "  print(i)\n",
        "  time.sleep(1)\n",
        "\n",
        "print('X*X*X*X*BUUUUUUUUM!*X*X*X*X')"
      ],
      "metadata": {
        "colab": {
          "base_uri": "https://localhost:8080/"
        },
        "id": "Coo0ydjHqfGa",
        "outputId": "69003e8b-fd3a-4a43-ede6-1a2686f0bff6"
      },
      "execution_count": null,
      "outputs": [
        {
          "output_type": "stream",
          "name": "stdout",
          "text": [
            "10\n",
            "9\n",
            "8\n",
            "7\n",
            "6\n",
            "5\n",
            "4\n",
            "3\n",
            "2\n",
            "1\n",
            "X*X*X*X*BUUUUUUUUM!*X*X*X*X\n"
          ]
        }
      ]
    },
    {
      "cell_type": "code",
      "source": [
        "#47. Crie um programa que mostre na tela todos os números pares que estão no intervalo entre 1 e 50.\n",
        "import time\n",
        "\n",
        "for i in range(2, 52, 2):\n",
        "  print(i, end = ' ')\n",
        "  time.sleep(0.2)\n",
        "\n",
        "print('Acabou')\n"
      ],
      "metadata": {
        "colab": {
          "base_uri": "https://localhost:8080/"
        },
        "id": "tOEz2u7rvcf9",
        "outputId": "877f8bbe-80da-4c7a-db6c-a879a95aa61f"
      },
      "execution_count": null,
      "outputs": [
        {
          "output_type": "stream",
          "name": "stdout",
          "text": [
            "2 4 6 8 10 12 14 16 18 20 22 24 26 28 30 32 34 36 38 40 42 44 46 48 50 Acabou\n"
          ]
        }
      ]
    },
    {
      "cell_type": "code",
      "source": [
        "#48. Faça um programa que calcule a soma entre todos os números ímpares que são múltiplos de três e que se encontram no intervalo de 1 até 500.\n",
        "soma = 0\n",
        "n = 0\n",
        "\n",
        "for i in range(1,501, 2):\n",
        "  if i % 3 == 0:\n",
        "    soma += i\n",
        "    n += 1\n",
        "\n",
        "print(f'A soma do {n} valores solicitados é {soma}.')"
      ],
      "metadata": {
        "colab": {
          "base_uri": "https://localhost:8080/"
        },
        "id": "utgHLO9bw2Sr",
        "outputId": "1689632c-e511-4015-ee91-d76625e1c6aa"
      },
      "execution_count": null,
      "outputs": [
        {
          "output_type": "stream",
          "name": "stdout",
          "text": [
            "A soma do 83 valores solicitados é 20667.\n"
          ]
        }
      ]
    },
    {
      "cell_type": "code",
      "source": [
        "#49. Refaça o DESAFIO 009, mostrando a tabuada de um número que o usuário escolher, só que agora utilizando um laço for.\n",
        "\n",
        "n = int(input('Digite um número inteiro para ver sua tabuada: '))\n",
        "print()\n",
        "\n",
        "for i in range(1,11):\n",
        "  print('{} x {:2} = {}'.format(n, i, n*i))"
      ],
      "metadata": {
        "colab": {
          "base_uri": "https://localhost:8080/"
        },
        "id": "RnNJcl3kx2NH",
        "outputId": "b618ef2e-a08f-407a-a503-ae3fcbe428b0"
      },
      "execution_count": null,
      "outputs": [
        {
          "output_type": "stream",
          "name": "stdout",
          "text": [
            "Digite um número inteiro para ver sua tabuada: 3\n",
            "\n",
            "3 x  1 = 3\n",
            "3 x  2 = 6\n",
            "3 x  3 = 9\n",
            "3 x  4 = 12\n",
            "3 x  5 = 15\n",
            "3 x  6 = 18\n",
            "3 x  7 = 21\n",
            "3 x  8 = 24\n",
            "3 x  9 = 27\n",
            "3 x 10 = 30\n"
          ]
        }
      ]
    },
    {
      "cell_type": "code",
      "source": [
        "#50. Desenvolva um programa que leia seis números inteiros e mostre a soma apenas daqueles que forem pares. Se o valor digitado for ímpar, desconsidere-o.\n",
        "soma = 0\n",
        "\n",
        "for i in range(1,7):\n",
        "  n = int(input(f'Digite o valor {i}: '))\n",
        "  if n % 2 == 0:\n",
        "    soma += n\n",
        "  else:\n",
        "    continue\n",
        "print()\n",
        "\n",
        "print('A soma dos números pares é: {}'.format(soma))"
      ],
      "metadata": {
        "colab": {
          "base_uri": "https://localhost:8080/"
        },
        "id": "R0CGsr1FjrHt",
        "outputId": "0aef02e7-f873-412e-b124-be7bf0477c42"
      },
      "execution_count": null,
      "outputs": [
        {
          "output_type": "stream",
          "name": "stdout",
          "text": [
            "Digite o valor 1: 2\n",
            "Digite o valor 2: 2\n",
            "Digite o valor 3: 2\n",
            "Digite o valor 4: 2\n",
            "Digite o valor 5: 2\n",
            "Digite o valor 6: 2\n",
            "\n",
            "A soma dos números pares é: 12\n"
          ]
        }
      ]
    },
    {
      "cell_type": "code",
      "source": [
        "#51. Desenvolva um programa que leia o primeiro termo e a razão de uma PA. No final, mostre os 10 primeiros termos dessa progressão.\n",
        "print('='*28)\n",
        "print('    10 TERMOS DE UMA PA    ')\n",
        "print('='*28)\n",
        "print()\n",
        "\n",
        "n = int(input('Digite primeiro termo da PA: '))\n",
        "r = int(input('Digite a razão da PA: '))\n",
        "valor = n\n",
        "\n",
        "for i in range(1, 11):\n",
        "  print(f'{valor} ->', end = \" \")\n",
        "  valor += r\n",
        "print('FIM')\n"
      ],
      "metadata": {
        "colab": {
          "base_uri": "https://localhost:8080/"
        },
        "id": "XyJa1owgk8rL",
        "outputId": "c7719df1-17ab-4a61-f269-11b97a18af47"
      },
      "execution_count": null,
      "outputs": [
        {
          "output_type": "stream",
          "name": "stdout",
          "text": [
            "============================\n",
            "    10 TERMOS DE UMA PA    \n",
            "============================\n",
            "\n",
            "Digite primeiro termo da PA: 2\n",
            "Digite a razão da PA: 3\n",
            "2 -> 5 -> 8 -> 11 -> 14 -> 17 -> 20 -> 23 -> 26 -> 29 -> FIM\n"
          ]
        }
      ]
    },
    {
      "cell_type": "code",
      "source": [
        "#52. Faça um programa que leia um número inteiro e diga se ele é ou não um número primo.\n",
        "from termcolor import colored\n",
        "\n",
        "n = int(input('Digite um número: '))\n",
        "count = 0\n",
        "print()\n",
        "\n",
        "for i in range(1, n+1):\n",
        "  if n % i == 0:\n",
        "    count += 1\n",
        "    print(colored(f'{i}', 'blue'), end = ' ')\n",
        "  else:\n",
        "    print(f'{i}', end = ' ')\n",
        "    continue \n",
        "print()\n",
        "\n",
        "if count > 2:\n",
        "  print('O número {} foi dividido {} vezes.'.format(n, count))\n",
        "  print('Por isso ele não é PRIMO.')\n",
        "elif count == 2:\n",
        "  print('O número {} foi dividido por 1 e por ele mesmo.'.format(n))\n",
        "  print('Logo, ele É PRIMO.')"
      ],
      "metadata": {
        "colab": {
          "base_uri": "https://localhost:8080/"
        },
        "id": "kI_eG-oDl9K-",
        "outputId": "9162f1d6-44cd-425a-d35c-b02b37578a4e"
      },
      "execution_count": null,
      "outputs": [
        {
          "output_type": "stream",
          "name": "stdout",
          "text": [
            "Digite um número: 10\n",
            "\n",
            "\u001b[34m1\u001b[0m \u001b[34m2\u001b[0m 3 4 \u001b[34m5\u001b[0m 6 7 8 9 \u001b[34m10\u001b[0m \n",
            "O número 10 foi dividido 4 vezes.\n",
            "Por isso ele não é PRIMO.\n"
          ]
        }
      ]
    },
    {
      "cell_type": "code",
      "source": [
        "#53. Crie um programa que leia uma frase qualquer e diga se ela é um palíndromo, desconsiderando os espaços.\n",
        "\n",
        "frase = input('Digite uma frase: ')\n",
        "frase = frase.replace(\" \", '')\n",
        "frase = frase.lower()\n",
        "print()\n",
        "\n",
        "print(f'O inverso de {frase} é {frase[::-1]}')\n",
        "\n",
        "if frase == frase[::-1]:\n",
        "  print(f'A frase digitada é um PALÍNDROMO!')\n",
        "else:\n",
        "  print(\"A frase digitada não é um PALÍNDROMO!\")\n"
      ],
      "metadata": {
        "colab": {
          "base_uri": "https://localhost:8080/"
        },
        "id": "62YZJObupVEO",
        "outputId": "9ef1d3ec-8063-4ed0-adcb-e0b0d53367ee"
      },
      "execution_count": null,
      "outputs": [
        {
          "output_type": "stream",
          "name": "stdout",
          "text": [
            "Digite uma frase: subi no onibus\n",
            "\n",
            "O inverso de subinoonibus é subinoonibus\n",
            "A frase digitada é um PALÍNDROMO!\n"
          ]
        }
      ]
    },
    {
      "cell_type": "code",
      "source": [
        "#54. Crie um programa que leia o ano de nascimento de sete pessoas. No final, mostre quantas pessoas ainda não atingiram a maioridade e quantas já são maiores.\n",
        "import datetime\n",
        "\n",
        "ano_atual = datetime.datetime.now().year\n",
        "count_maior = 0\n",
        "count_menor = 0\n",
        "\n",
        "for i in range(1,8):\n",
        "  ano = int(input('Digite o ano de nascimento da {}a pessoa: '.format(i)))\n",
        "  if ano_atual - ano < 18:\n",
        "    count_menor += 1\n",
        "  else:\n",
        "    count_maior += 1\n",
        "\n",
        "print()\n",
        "print('Ao todo, tivemos {} pessoas maiores de idade e {} menores de idade.'.format(count_maior, count_menor))\n",
        "\n"
      ],
      "metadata": {
        "colab": {
          "base_uri": "https://localhost:8080/"
        },
        "id": "izxj7tIMqskF",
        "outputId": "0bc18fda-1338-4d99-c0ce-865bbc8d9a3b"
      },
      "execution_count": null,
      "outputs": [
        {
          "output_type": "stream",
          "name": "stdout",
          "text": [
            "Digite o ano de nascimento da 1a pessoa: 1990\n",
            "Digite o ano de nascimento da 2a pessoa: 2012\n",
            "Digite o ano de nascimento da 3a pessoa: 2013\n",
            "Digite o ano de nascimento da 4a pessoa: 2001\n",
            "Digite o ano de nascimento da 5a pessoa: 2002\n",
            "Digite o ano de nascimento da 6a pessoa: 2004\n",
            "Digite o ano de nascimento da 7a pessoa: 1990\n",
            "\n",
            "Ao todo, tivemos 5 pessoas maiores de idade e 2 menores de idade.\n"
          ]
        }
      ]
    },
    {
      "cell_type": "code",
      "source": [
        "#55. Faça um programa que leia o peso de cinco pessoas. No final, mostre qual foi o maior e o menor peso lidos.\n",
        "lista_pesos = []\n",
        "\n",
        "for i in range(1,6):\n",
        "  peso = float(input('Digite o peso da {}a pessoa em Kg: '.format(i)))\n",
        "  lista_pesos.append(peso)\n",
        "print()\n",
        "\n",
        "print('O maior peso lido foi {:.2f}Kg'.format(max(lista_pesos)))\n",
        "print('O menor peso lido foi {:.2f}Kg'.format(min(lista_pesos)))    "
      ],
      "metadata": {
        "id": "BmGLIbwXrSqY",
        "colab": {
          "base_uri": "https://localhost:8080/"
        },
        "outputId": "e045cb05-ae39-4181-a39b-8a0e5a16adc9"
      },
      "execution_count": null,
      "outputs": [
        {
          "output_type": "stream",
          "name": "stdout",
          "text": [
            "Digite o peso da 1a pessoa em Kg: 90.6\n",
            "Digite o peso da 2a pessoa em Kg: 100.1\n",
            "Digite o peso da 3a pessoa em Kg: 23.78\n",
            "Digite o peso da 4a pessoa em Kg: 67.3\n",
            "Digite o peso da 5a pessoa em Kg: 90.3\n",
            "\n",
            "O maior peso lido foi 100.10Kg\n",
            "O menor peso lido foi 23.78Kg\n"
          ]
        }
      ]
    },
    {
      "cell_type": "code",
      "source": [
        "#56. Desenvolva um programa que leia o nome, idade e sexo de 4 pessoas. No final do programa, mostre: a média de idade do grupo, \n",
        "#qual é o nome do homem mais velho e quantas mulheres têm menos de 20 anos.\n",
        "nomes_m = []\n",
        "nomes_f = []\n",
        "idades_m = []\n",
        "idades_f = []\n",
        "idades = []\n",
        "\n",
        "\n",
        "for i in range(1,5):\n",
        "  print('---- {}a PESSOA ----'.format(i))\n",
        "  nome = input('Nome: ')\n",
        "  idade = int(input('Idade: '))\n",
        "  sexo = input('Sexo [M/F]: ') \n",
        "  print()\n",
        "\n",
        "  idades.append(idade)\n",
        "  if sexo == 'M' or sexo == 'm':\n",
        "    idades_m.append(idade)\n",
        "    nomes_m.append(nome)\n",
        "  elif sexo == 'F' or sexo == 'f':\n",
        "    idades_f.append(idade)\n",
        "    nomes_f.append(idade)\n",
        "\n",
        "\n",
        "  \n",
        "\n",
        "print('A média de idade do grupo é {:.2f} anos.'.format(round(sum(idades)/len(idades),4)))\n",
        "\n",
        "homem_velho_index = idades_m.index(max(idades_m))\n",
        "print('O homem mais velho tem {} anos e se chama {}.'.format(max(idades_m), nomes_m[homem_velho_index]))\n",
        "\n",
        "count = 0\n",
        "for i in idades_f:\n",
        "  if i < 20:\n",
        "    count += 1\n",
        "print('No total, há {} mulher(es) com menos de 20 anos.'.format(count))\n",
        "\n"
      ],
      "metadata": {
        "colab": {
          "base_uri": "https://localhost:8080/"
        },
        "id": "TVt1VelcvqKS",
        "outputId": "0472ce00-e70f-4ba6-e1f0-9eb858cd59a8"
      },
      "execution_count": null,
      "outputs": [
        {
          "output_type": "stream",
          "name": "stdout",
          "text": [
            "---- 1a PESSOA ----\n",
            "Nome: Gabriel\n",
            "Idade: 20\n",
            "Sexo [M/F]: m\n",
            "\n",
            "---- 2a PESSOA ----\n",
            "Nome: Ingrid\n",
            "Idade: 19\n",
            "Sexo [M/F]: f\n",
            "\n",
            "---- 3a PESSOA ----\n",
            "Nome: Danielly\n",
            "Idade: 21\n",
            "Sexo [M/F]: f\n",
            "\n",
            "---- 4a PESSOA ----\n",
            "Nome: Fernando\n",
            "Idade: 32\n",
            "Sexo [M/F]: m\n",
            "\n",
            "A média de idade do grupo é 23.00.\n",
            "O homem mais velho tem 32 anos e se chama Fernando.\n",
            "No total, há 1 mulheres com menos de 20 anos.\n"
          ]
        }
      ]
    },
    {
      "cell_type": "code",
      "source": [
        "# 57. Faça um programa que leia o sexo de uma pessoa, mas só aceite os valores 'M' ou 'F'. Caso esteja errado, peça a digitação novamente até ter um valor correto.\n",
        "key = True\n",
        "sexo = str(input('Digite seu sexo [M/F]: ')).strip().upper()[0]\n",
        "while sexo not in 'MmFf':\n",
        "  sexo = str(input('Dados inválidos, por favor informe seu sexo novamente [M/F]: ')).strip().upper()[0]\n",
        "\n",
        "print()\n",
        "print('Dados válidos, cadastro feito!')\n"
      ],
      "metadata": {
        "colab": {
          "base_uri": "https://localhost:8080/"
        },
        "id": "n6XwI-5fwwI9",
        "outputId": "b3823521-4399-4149-e2ff-866a92fb2b9f"
      },
      "execution_count": null,
      "outputs": [
        {
          "output_type": "stream",
          "name": "stdout",
          "text": [
            "Digite seu sexo [M/F]: k\n",
            "Dados inválidos, por favor informe seu sexo novamente [M/F]: l\n",
            "Dados inválidos, por favor informe seu sexo novamente [M/F]: f\n",
            "Dados válidos, cadastro feito!\n"
          ]
        }
      ]
    },
    {
      "cell_type": "code",
      "source": [
        "#58. Melhore o jogo do DESAFIO 028 onde o computador vai \"pensar\" em um número entre 0 e 10. Só que agora o jogador vai tentar adivinhar até acertar,\n",
        "# mostrando no final quantos palpites foram necessários para vencer. \n",
        "import random as rd\n",
        "\n",
        "print('==== ADIVINHE MEU NÚMERO ====')\n",
        "print()\n",
        "print('BEM VINDO AO JOGO DA ADIVINHAÇÃO!')\n",
        "print('Pensei em um número de 0 a 10. Consegue adivinhar esse número?')\n",
        "print()\n",
        "\n",
        "n_certo = rd.randrange(0, 11, 1)\n",
        "count = 0\n",
        "key = True\n",
        "\n",
        "while key == True:\n",
        "  n = int(input('Digite seu palpite: '))\n",
        "  count += 1\n",
        "\n",
        "  if n == n_certo:\n",
        "    break\n",
        "  else:\n",
        "    print('Infelizmente você errou. Tente novamente.')\n",
        "    print()\n",
        "\n",
        "\n",
        "print('Parabéns!!! Você acertou com {} tentativas.'.format(count))\n"
      ],
      "metadata": {
        "colab": {
          "base_uri": "https://localhost:8080/"
        },
        "id": "9nPcf6aGy47o",
        "outputId": "907b6001-6cb3-4b93-b59f-88fe019da933"
      },
      "execution_count": null,
      "outputs": [
        {
          "output_type": "stream",
          "name": "stdout",
          "text": [
            "==== ADIVINHE MEU NÚMERO ====\n",
            "\n",
            "BEM VINDO AO JOGO DA ADIVINHAÇÃO!\n",
            "Pensei em um número de 0 a 10. Consegue adivinhar esse número?\n",
            "\n",
            "Digite seu palpite: 8\n",
            "Infelizmente você errou. Tente novamente.\n",
            "\n",
            "Digite seu palpite: 2\n",
            "Infelizmente você errou. Tente novamente.\n",
            "\n",
            "Digite seu palpite: 1\n",
            "Parabéns!!! Você acertou com 3 tentativas.\n"
          ]
        }
      ]
    },
    {
      "cell_type": "code",
      "source": [
        "#59. Crie um programa que leia dois valores e mostre um menu na tela:\n",
        "#[ 1 ] somar\n",
        "#[ 2 ] multiplicar\n",
        "#[ 3 ] maior\n",
        "#[ 4 ] novos números\n",
        "#[ 5 ] sair do programa\n",
        "#Seu programa deverá realizar a operação solicitada em cada caso.\n",
        "from termcolor import colored\n",
        "\n",
        "print('**'* 12)\n",
        "print('CALCULADORA INTELIGENTE')\n",
        "print('**'*12)\n",
        "print()\n",
        "n1 = int(input('Digite o primeiro valor: '))\n",
        "n2 = int(input('Digite o segundo valor: '))\n",
        "print()\n",
        "a = True\n",
        "l = []\n",
        "\n",
        "while a:\n",
        "  print('=================')\n",
        "  print('Possíveis opções:')\n",
        "  print('[1] Somar')\n",
        "  print('[2] Multiplicar')\n",
        "  print('[3] Maior')\n",
        "  print('[4] Novos números')\n",
        "  print('[5] Sair do programa')\n",
        "  opt = int(input('>> Digite sua opção:'))\n",
        "  print()\n",
        "\n",
        "  if opt == 1:\n",
        "    soma = n1 + n2\n",
        "    print(colored('->> A soma de {} com {} é {}.'.format(n1, n2, soma), 'red'))\n",
        "    print()\n",
        "  elif opt == 2:\n",
        "    mult = n1*n2\n",
        "    print(colored('->> A multiplicação entre {} e {} é {}.'.format(n1, n2, mult), 'red'))\n",
        "    print()\n",
        "  elif opt == 3:\n",
        "    if n1 == n2:\n",
        "      print(colored('Não há maior valor, ambos são iguais!','red')) \n",
        "      print()\n",
        "    else:\n",
        "      l = [n1,n2]\n",
        "      maximo = max(l)\n",
        "      print(colored('->> O maior número entre {} e {} é {}.'.format(n1, n2, maximo), 'red'))\n",
        "      print()\n",
        "  elif opt == 4:\n",
        "    print('Informe os novos números!')\n",
        "    n1 = int(input('Digite o primeiro valor: '))\n",
        "    n2 = int(input('Digite o segundo valor: '))\n",
        "    print()\n",
        "  elif opt == 5:\n",
        "    a = False\n",
        "  else:\n",
        "    print(colored('->> Essa opção não existe! Tente novamente!', 'red'))\n",
        "print()\n",
        "print(colored('Você saiu do programa! Obrigado pela participação!', 'blue'))\n"
      ],
      "metadata": {
        "colab": {
          "base_uri": "https://localhost:8080/"
        },
        "id": "UtcFlk2EzaUz",
        "outputId": "b163759a-0b9b-429e-b957-82819694ac63"
      },
      "execution_count": null,
      "outputs": [
        {
          "output_type": "stream",
          "name": "stdout",
          "text": [
            "************************\n",
            "CALCULADORA INTELIGENTE\n",
            "************************\n",
            "\n",
            "Digite o primeiro valor: 3\n",
            "Digite o segundo valor: 4\n",
            "\n",
            "=================\n",
            "Possíveis opções:\n",
            "[1] Somar\n",
            "[2] Multiplicar\n",
            "[3] Maior\n",
            "[4] Novos números\n",
            "[5] Sair do programa\n",
            ">> Digite sua opção:3\n",
            "\n",
            "\u001b[31m->> O maior número entre 3 e 4 é 4.\u001b[0m\n",
            "\n",
            "=================\n",
            "Possíveis opções:\n",
            "[1] Somar\n",
            "[2] Multiplicar\n",
            "[3] Maior\n",
            "[4] Novos números\n",
            "[5] Sair do programa\n",
            ">> Digite sua opção:4\n",
            "\n",
            "Informe os novos números!\n",
            "Digite o primeiro valor: 4\n",
            "Digite o segundo valor: 4\n",
            "\n",
            "=================\n",
            "Possíveis opções:\n",
            "[1] Somar\n",
            "[2] Multiplicar\n",
            "[3] Maior\n",
            "[4] Novos números\n",
            "[5] Sair do programa\n",
            ">> Digite sua opção:3\n",
            "\n",
            "\u001b[31mNão há maior valor, ambos são iguais!\u001b[0m\n",
            "\n",
            "=================\n",
            "Possíveis opções:\n",
            "[1] Somar\n",
            "[2] Multiplicar\n",
            "[3] Maior\n",
            "[4] Novos números\n",
            "[5] Sair do programa\n",
            ">> Digite sua opção:1\n",
            "\n",
            "\u001b[31m->> A soma de 4 com 4 é 8.\u001b[0m\n",
            "\n",
            "=================\n",
            "Possíveis opções:\n",
            "[1] Somar\n",
            "[2] Multiplicar\n",
            "[3] Maior\n",
            "[4] Novos números\n",
            "[5] Sair do programa\n",
            ">> Digite sua opção:5\n",
            "\n",
            "\n",
            "\u001b[34mVocê saiu do programa! Obrigado pela participação!\u001b[0m\n"
          ]
        }
      ]
    },
    {
      "cell_type": "code",
      "source": [
        "#60. Faça um programa que leia um número qualquer e mostre o seu fatorial.\n",
        "print('=== CALCULADORA DE FATORIAL ===')\n",
        "print()\n",
        "\n",
        "n = int(input('Digite um número: '))\n",
        "fat = 1\n",
        "\n",
        "\n",
        "while n > 0:\n",
        "  print('{}'.format(n), end = ' ')\n",
        "  print('x' if n > 1 else '=', end = ' ')\n",
        "  fat *= n\n",
        "  n -= 1\n",
        "print(fat)"
      ],
      "metadata": {
        "id": "X15EnE3rOBbR",
        "colab": {
          "base_uri": "https://localhost:8080/"
        },
        "outputId": "429c6814-227c-423c-8943-2dbb4079ddc1"
      },
      "execution_count": null,
      "outputs": [
        {
          "output_type": "stream",
          "name": "stdout",
          "text": [
            "=== CALCULADORA DE FATORIAL ===\n",
            "\n",
            "Digite um número: 6\n",
            "6 x 5 x 4 x 3 x 2 x 1 = 720\n"
          ]
        }
      ]
    },
    {
      "cell_type": "code",
      "source": [
        "#61. lendo o primeiro termo e a razão de uma PA, mostrando os 10 primeiros termos da progressão usando a estrutura while.\n",
        "print('==== GERADOR DE PA ====')\n",
        "print()\n",
        "n = int(input('Primeiro termo: '))\n",
        "r = int(input('Razão: '))\n",
        "print()\n",
        "count = 0\n",
        "\n",
        "while count < 10:\n",
        "  print('{} ->'.format(n), end = ' ')\n",
        "  n += r\n",
        "  count += 1\n",
        "print('FIM')\n"
      ],
      "metadata": {
        "colab": {
          "base_uri": "https://localhost:8080/"
        },
        "id": "LAEYa77EtO4q",
        "outputId": "21abbc8c-9338-45ff-d726-c23cc7b833af"
      },
      "execution_count": null,
      "outputs": [
        {
          "output_type": "stream",
          "name": "stdout",
          "text": [
            "==== GERADOR DE PA ====\n",
            "\n",
            "Primeiro termo: 20\n",
            "Razão: 5\n",
            "\n",
            "20 -> 25 -> 30 -> 35 -> 40 -> 45 -> 50 -> 55 -> 60 -> 65 -> FIM\n"
          ]
        }
      ]
    },
    {
      "cell_type": "code",
      "source": [
        "#62. perguntando para o usuário se ele quer mostrar mais alguns termos. O programa encerrará quando ele disser que quer mostrar 0 termos.\n",
        "print('==== GERADOR DE PA ====')\n",
        "print()\n",
        "n = int(input('Primeiro termo: '))\n",
        "r = int(input('Razão: '))\n",
        "print()\n",
        "\n",
        "count = 0\n",
        "termo = n\n",
        "\n",
        "while\n",
        "  while count < 10:\n",
        "    print('{} ->'.format(termo), end = ' ')\n",
        "    termo += r \n",
        "    count += 1\n",
        "  print('FIM')\n"
      ],
      "metadata": {
        "colab": {
          "base_uri": "https://localhost:8080/"
        },
        "id": "bLTsRG1bBBYM",
        "outputId": "86bfd09e-4037-4f19-973d-22a73e11ae43"
      },
      "execution_count": null,
      "outputs": [
        {
          "output_type": "stream",
          "name": "stdout",
          "text": [
            "==== GERADOR DE PA ====\n",
            "\n",
            "Primeiro termo: 3\n",
            "Razão: 4\n",
            "\n",
            "3 -> 7 -> 11 -> 15 -> 19 -> 23 -> 27 -> 31 -> 35 -> 39 -> FIM\n"
          ]
        }
      ]
    },
    {
      "cell_type": "code",
      "source": [
        "#62. Escreva um programa que leia um número N inteiro qualquer e mostre na tela os N primeiros elementos de uma Sequência de Fibonacci. \n",
        "print('--------------------------------')\n",
        "print('---- SEQUÊNCIA DE FIBONACCI ----')\n",
        "print('--------------------------------')\n",
        "print()\n",
        "\n",
        "qtd_term = int(input('Quantos termos da sequência de Fibonacci você precisa? '))\n",
        "print()\n",
        "count = 0\n",
        "term1 = 0\n",
        "term2 = 1\n",
        "\n",
        "print('{} -> {}'.format(term1, term2), end = ' -> ')\n",
        "\n",
        "count = 3\n",
        "\n",
        "while count <= qtd_term:\n",
        "  term3 = term1 + term2\n",
        "  print('{}'.format(term3), end = ' -> ')\n",
        "  term1 = term2\n",
        "  term2 = term3\n",
        "  count += 1\n",
        "print('FIM')"
      ],
      "metadata": {
        "id": "wIzHXqgpCDls",
        "colab": {
          "base_uri": "https://localhost:8080/"
        },
        "outputId": "812498dd-9904-4ba1-824d-ca97b4e06430"
      },
      "execution_count": null,
      "outputs": [
        {
          "output_type": "stream",
          "name": "stdout",
          "text": [
            "--------------------------------\n",
            "---- SEQUÊNCIA DE FIBONACCI ----\n",
            "--------------------------------\n",
            "\n",
            "Quantos termos da sequência de Fibonacci você precisa? 10\n",
            "\n",
            "0 -> 1 -> 1 -> 2 -> 3 -> 5 -> 8 -> 13 -> 21 -> 34 -> FIM\n"
          ]
        }
      ]
    },
    {
      "cell_type": "code",
      "source": [
        "#63. Crie um programa que leia vários números inteiros pelo teclado. O programa só vai parar quando o usuário digitar o valor 999, \n",
        "#que é a condição de parada. No final, mostre quantos números foram digitados e qual foi a soma entre eles \n",
        "soma = 0\n",
        "n = True\n",
        "while n == True:\n",
        "  val = int(input('Digite um número (ou 999 para parar): '))\n",
        "  if val == 999:\n",
        "    break\n",
        "  else:\n",
        "    soma += val\n",
        "\n",
        "print('A soma dos valores é {}.'.format(soma))"
      ],
      "metadata": {
        "colab": {
          "base_uri": "https://localhost:8080/"
        },
        "id": "Nu0y58WcPTAF",
        "outputId": "a73cf69f-1eb7-4793-f3ec-db8b51b3679f"
      },
      "execution_count": null,
      "outputs": [
        {
          "output_type": "stream",
          "name": "stdout",
          "text": [
            "Digite um número (ou 999 para parar): 99\n",
            "Digite um número (ou 999 para parar): 1\n",
            "Digite um número (ou 999 para parar): 999\n",
            "A soma dos valores é 100.\n"
          ]
        }
      ]
    },
    {
      "cell_type": "code",
      "source": [
        "\n",
        "#64. Crie um programa que leia vários números inteiros pelo teclado. No final da execução, mostre a média entre todos os \n",
        "#valores e qual foi o maior e o menor valores lidos. O programa deve perguntar ao usuário se ele quer ou não continuar a digitar valores.\n",
        "\n",
        "n = float(input('Digite um número: '))\n",
        "lista.append(n)\n",
        "aux = True\n",
        "lista = []\n",
        "\n",
        "while aux == True:\n",
        "  opt = input('Quer continuar? [s/n]')\n",
        "  print()\n",
        "  opt.lower()\n",
        "\n",
        "  if opt == 's':\n",
        "    n = float(input('Digite outro número:'))\n",
        "    lista.append(n)\n",
        "  elif opt == 'n':\n",
        "    break\n",
        "\n",
        "lista = sorted(lista)\n",
        "\n",
        "print(f'O maior número digitado foi: {max(lista):.2f}.')\n"
      ],
      "metadata": {
        "colab": {
          "base_uri": "https://localhost:8080/"
        },
        "id": "7LzrdddGQeVk",
        "outputId": "2e0c284b-90df-4585-8336-2596ee36755b"
      },
      "execution_count": null,
      "outputs": [
        {
          "output_type": "stream",
          "name": "stdout",
          "text": [
            "Digite um número: 56\n",
            "Quer continuar? [s/n]3\n",
            "\n",
            "Quer continuar? [s/n]s\n",
            "\n",
            "Digite outro número:68\n",
            "Quer continuar? [s/n]s\n",
            "\n",
            "Digite outro número:90\n",
            "Quer continuar? [s/n]s\n",
            "\n",
            "Digite outro número:100\n",
            "Quer continuar? [s/n]s\n",
            "\n",
            "Digite outro número:400\n",
            "Quer continuar? [s/n]n\n",
            "\n",
            "O maior número digitado foi: 400.00.\n"
          ]
        }
      ]
    },
    {
      "cell_type": "code",
      "source": [
        "#67. Faça um programa que mostre a tabuada de vários números, um de cada vez, para cada valor digitado pelo usuário. O programa será \n",
        "#interrompido quando o número solicitado for negativo. \n",
        "\n",
        "flag = True\n",
        "print('--- TABUADA ---')\n",
        "print()\n",
        "\n",
        "while flag:\n",
        "  n = int(input('-> Quer ver a tabuada de qual valor? (Digite um valor negativo para finalizar):  '))\n",
        "  \n",
        "  if n < 0:\n",
        "    break\n",
        "  else: \n",
        "    for i in range(11):\n",
        "      print(f'{n} x {i} = {n*i}')\n",
        "  print()    \n",
        "print('-> Programa finalizado!')"
      ],
      "metadata": {
        "colab": {
          "base_uri": "https://localhost:8080/"
        },
        "id": "EU_q1DIaSeXv",
        "outputId": "d9fe768e-dbaf-4a68-b87e-ebd21a3c94cf"
      },
      "execution_count": null,
      "outputs": [
        {
          "output_type": "stream",
          "name": "stdout",
          "text": [
            "--- TABUADA ---\n",
            "\n",
            "-> Quer ver a tabuada de qual valor? (Digite um valor negativo para finalizar):  2\n",
            "2 x 0 = 0\n",
            "2 x 1 = 2\n",
            "2 x 2 = 4\n",
            "2 x 3 = 6\n",
            "2 x 4 = 8\n",
            "2 x 5 = 10\n",
            "2 x 6 = 12\n",
            "2 x 7 = 14\n",
            "2 x 8 = 16\n",
            "2 x 9 = 18\n",
            "2 x 10 = 20\n",
            "-> Quer ver a tabuada de qual valor? (Digite um valor negativo para finalizar):  3\n",
            "3 x 0 = 0\n",
            "3 x 1 = 3\n",
            "3 x 2 = 6\n",
            "3 x 3 = 9\n",
            "3 x 4 = 12\n",
            "3 x 5 = 15\n",
            "3 x 6 = 18\n",
            "3 x 7 = 21\n",
            "3 x 8 = 24\n",
            "3 x 9 = 27\n",
            "3 x 10 = 30\n",
            "-> Quer ver a tabuada de qual valor? (Digite um valor negativo para finalizar):  -1\n",
            "\n",
            "-> Programa finalizado!\n"
          ]
        }
      ]
    },
    {
      "cell_type": "code",
      "source": [
        "#68. Faça um programa que jogue par ou ímpar com o computador. O jogo só será interrompido quando o jogador perder, mostrando o total de vitórias consecutivas \n",
        "#que ele conquistou no final do jogo. \n",
        "import random as rd\n",
        "\n",
        "flag = True\n",
        "ganhos = 0\n",
        "\n",
        "print('**** PAR OU ÍMPAR ****')\n",
        "print()\n",
        "\n",
        "while flag:\n",
        "  valor_usuario = int(input('-> Digite um número: '))\n",
        "  poui_usuario = input('-> Par ou ímpar [P/I]: ')\n",
        "  poui_usuario = poui_usuario.lower()\n",
        "  \n",
        "  valor_pc = rd.randrange(100)\n",
        "\n",
        "  soma = valor_pc + valor_usuario\n",
        "\n",
        "  print(f'Você jogou {valor_usuario} e o computador jogou {valor_pc}, a soma deu {soma}.')\n",
        "  if (poui_usuario == 'p' and soma%2 == 0):\n",
        "    print('Você jogou PAR, você venceu! ')\n",
        "    print('Jogue novamente!')\n",
        "    print()\n",
        "    ganhos += 1\n",
        "  elif (poui_usuario == 'i' and soma%2 != 0):\n",
        "    print('Você jogou ÍMPAR, você venceu! ')\n",
        "    print('Jogue novamente!')\n",
        "    print()\n",
        "    ganhos += 1\n",
        "  else:\n",
        "    print('Ops, você perdeu!')\n",
        "    print()\n",
        "    flag = False\n",
        "print(f'--> Quantidade de vitórias consecutivas: {ganhos}')\n",
        "print()\n",
        "print('*** F I M ***')"
      ],
      "metadata": {
        "id": "Fm8bqzSOSgyR",
        "colab": {
          "base_uri": "https://localhost:8080/"
        },
        "outputId": "1e806975-ac0c-4517-d036-1f737f1027b2"
      },
      "execution_count": null,
      "outputs": [
        {
          "output_type": "stream",
          "name": "stdout",
          "text": [
            "**** PAR OU ÍMPAR ****\n",
            "\n",
            "-> Digite um número: 90\n",
            "-> Par ou ímpar [P/I]: p\n",
            "Você jogou 90 e o computador jogou 66, a soma deu 156.\n",
            "Você jogou PAR, você venceu! \n",
            "Jogue novamente!\n",
            "\n",
            "-> Digite um número: 5\n",
            "-> Par ou ímpar [P/I]: i\n",
            "Você jogou 5 e o computador jogou 74, a soma deu 79.\n",
            "Você jogou ÍMPAR, você venceu! \n",
            "Jogue novamente!\n",
            "\n",
            "-> Digite um número: 2\n",
            "-> Par ou ímpar [P/I]: i\n",
            "Você jogou 2 e o computador jogou 72, a soma deu 74.\n",
            "Ops, você perdeu!\n",
            "\n",
            "Quantidade de vitórias consecutivas: 2\n",
            "F I M\n"
          ]
        }
      ]
    },
    {
      "cell_type": "code",
      "source": [
        "#69. Crie um programa que leia a idade e o sexo de várias pessoas. A cada pessoa cadastrada, o programa deverá perguntar se o usuário quer ou não continuar. No final, mostre:\n",
        "#A) quantas pessoas tem mais de 18 anos.\n",
        "#B) quantos homens foram cadastrados.\n",
        "#C) quantas mulheres tem menos de 20 anos. \n",
        "\n",
        "lista_sexo = []\n",
        "lista_idade = []\n",
        "flag = True\n",
        "\n",
        "print('----- CADASTRO PESSOAS -----')\n",
        "print()\n",
        "\n",
        "while flag == True:\n",
        "  idade = int(input('Idade: '))\n",
        "  sexo = input('Sexo [M/F]: ').lower()\n",
        "  \n",
        "  lista_sexo.append(sexo)\n",
        "  lista_idade.append(idade)\n",
        "\n",
        "  key = input('Quer continuar? [S/N]').lower()\n",
        "  print()\n",
        "  if key == 'n':\n",
        "    flag = False\n",
        "  else:\n",
        "    continue\n",
        "\n",
        "\n",
        "n_maior_18 = 0\n",
        "n_homens = 0\n",
        "n_mulheres_maior_18 = 0\n",
        "\n",
        "for i in lista_idade:\n",
        "  if i > 18:\n",
        "    n_maior_18 += 1\n",
        "\n",
        "for i in lista_sexo:\n",
        "  if i == 'm':\n",
        "    n_homens += 1\n",
        "\n",
        "for i in lista_sexo:\n",
        "  index = lista_sexo.index(i)\n",
        "\n",
        "  if i == 'f' and lista_idade[index] > 18:\n",
        "    n_mulheres_maior_18 += 1\n",
        "\n",
        "print(f'INFORMAÇÕES FINAIS:')\n",
        "print(f'-> Há {n_maior_18} pessoas maiores que 18 anos.')\n",
        "print(f'-> Há {n_homens} homens.')\n",
        "print(f'-> Há {n_mulheres_maior_18} mulheres maiores que 18 anos.')\n"
      ],
      "metadata": {
        "colab": {
          "base_uri": "https://localhost:8080/"
        },
        "id": "0YvI1x9o-uNr",
        "outputId": "a2349d19-e5cd-4c2d-c9e4-70f378b12f91"
      },
      "execution_count": null,
      "outputs": [
        {
          "output_type": "stream",
          "name": "stdout",
          "text": [
            "----- CADASTRO PESSOAS -----\n",
            "\n",
            "Idade: 23\n",
            "Sexo [M/F]: f\n",
            "Quer continuar? [S/N]s\n",
            "\n",
            "Idade: 23\n",
            "Sexo [M/F]: m\n",
            "Quer continuar? [S/N]s\n",
            "\n",
            "Idade: 19\n",
            "Sexo [M/F]: f\n",
            "Quer continuar? [S/N]s\n",
            "\n",
            "Idade: 90\n",
            "Sexo [M/F]: m\n",
            "Quer continuar? [S/N]s\n",
            "\n",
            "Idade: 21\n",
            "Sexo [M/F]: s\n",
            "Quer continuar? [S/N]s\n",
            "\n",
            "Idade: 12\n",
            "Sexo [M/F]: m\n",
            "Quer continuar? [S/N]n\n",
            "\n",
            "INFORMAÇÕES FINAIS:\n",
            "-> Há 5 pessoas maiores que 18 anos.\n",
            "-> Há 3 homens.\n",
            "-> Há 2 mulheres maiores que 18 anos.\n"
          ]
        }
      ]
    },
    {
      "cell_type": "code",
      "source": [
        "#70. Crie um programa que leia o nome e o preço de vários produtos. O programa deverá perguntar se o usuário vai continuar ou não. No final, mostre:\n",
        "#A) qual é o total gasto na compra.\n",
        "#B) quantos produtos custam mais de R$1000.\n",
        "#C) qual é o nome do produto mais barato. \n",
        "\n",
        "flag = True\n",
        "nomes = []\n",
        "valores = []\n",
        "\n",
        "print('---- CADASTRO PRODUTOS ----')\n",
        "print()\n",
        "\n",
        "while flag:\n",
        "  nome = input('Nome do produto: ')\n",
        "  valor = float(input('Valor do produto: R$ '))\n",
        "\n",
        "  nomes.append(nome)\n",
        "  valores.append(valor)\n",
        "\n",
        "  opt = input('Quer continuar? [S/N]: ').lower()\n",
        "  print()\n",
        "\n",
        "  if opt == 'n':\n",
        "    flag = False\n",
        "\n",
        "valor_total = sum(valores)\n",
        "\n",
        "produtos_mais_1000 = 0\n",
        "for i in valores:\n",
        "  if i > 1000:\n",
        "    produtos_mais_1000 += 1\n",
        "\n",
        "index_mais_barato = valores.index(min(valores))\n",
        "produto_mais_barato = nomes[index_mais_barato]\n",
        "\n",
        "print(f'1) O gasto total da compra foi R${valor_total:.2f}.')\n",
        "print(f'2) Há {produtos_mais_1000} produtos com valor maior que R$1000,00.')\n",
        "print(f'3) O produto mais barato foi: {produto_mais_barato}.')"
      ],
      "metadata": {
        "id": "XR7kKv5cPay5",
        "colab": {
          "base_uri": "https://localhost:8080/"
        },
        "outputId": "5f49641a-6fd9-4f9b-e4f8-c7e2545a9982"
      },
      "execution_count": null,
      "outputs": [
        {
          "output_type": "stream",
          "name": "stdout",
          "text": [
            "---- CADASTRO PRODUTOS ----\n",
            "\n",
            "Nome do produto: Carro\n",
            "Valor do produto: R$ 20000\n",
            "Quer continuar? [S/N]: s\n",
            "\n",
            "Nome do produto: Casa\n",
            "Valor do produto: R$ 1000000\n",
            "Quer continuar? [S/N]: s\n",
            "\n",
            "Nome do produto: Notebook\n",
            "Valor do produto: R$ 999\n",
            "Quer continuar? [S/N]: n\n",
            "\n",
            "1) O gasto total da compra foi R$1020999.00.\n",
            "2) Há 2 produtos com valor maior que R$1000,00.\n",
            "3) O produto mais barato foi: Notebook.\n"
          ]
        }
      ]
    },
    {
      "cell_type": "code",
      "source": [
        "#71. Crie um programa que simule o funcionamento de um caixa eletrônico. No início, pergunte ao usuário qual será o valor a ser sacado (número inteiro) e o \n",
        "#programa vai informar quantas cédulas de cada valor serão entregues. OBS: considere que o caixa possui cédulas de R$50, R$20, R$10 e R$1.\n",
        "import time\n",
        "\n",
        "print('='*29)\n",
        "print('========= BANCO BGF =========')\n",
        "print('='*29)\n",
        "print()\n",
        "\n",
        "valor = int(input('-> Quanto você quer sacar? '))\n",
        "print()\n",
        "\n",
        "time.sleep(0.5)\n",
        "print('Calculando.',end = '')\n",
        "time.sleep(0.5)\n",
        "print('.',end = '')\n",
        "time.sleep(0.5)\n",
        "print('.')\n",
        "time.sleep(1)\n",
        "print()\n",
        "\n",
        "count_50 = valor//50\n",
        "valor = valor - (count_50 * 50)\n",
        "count_20 = valor//20\n",
        "valor = valor - (count_20 * 20)\n",
        "count_10 = valor//10\n",
        "valor = valor - (count_10*10)\n",
        "count_1 = valor//1\n",
        "\n",
        "print('RETORNO:')\n",
        "print(f'1) {count_50} notas de R$50,00.')\n",
        "print(f'2) {count_20} notas de R$20,00.')\n",
        "print(f'3) {count_10} notas de R$10,00.')\n",
        "print(f'4) {count_1} notas de R$1,00.')\n",
        "\n",
        "\n"
      ],
      "metadata": {
        "id": "w6wZZKFwUN2x",
        "colab": {
          "base_uri": "https://localhost:8080/"
        },
        "outputId": "f3291198-6437-452c-c7dd-14f7b7a6795f"
      },
      "execution_count": null,
      "outputs": [
        {
          "output_type": "stream",
          "name": "stdout",
          "text": [
            "=============================\n",
            "========= BANCO BGF =========\n",
            "=============================\n",
            "-> Quanto você quer sacar? 120\n",
            "\n",
            "Calculando...\n",
            "\n",
            "RETORNO:\n",
            "1) 2 notas de R$50,00.\n",
            "2) 1 notas de R$20,00.\n",
            "3) 0 notas de R$10,00.\n",
            "4) 0 notas de R$1,00.\n"
          ]
        }
      ]
    },
    {
      "cell_type": "code",
      "source": [
        "#72. Crie um programa que tenha uma dupla totalmente preenchida com uma contagem por extenso, de zero até vinte. \n",
        "#Seu programa deverá ler um número pelo teclado (entre 0 e 20) e mostrá-lo por extenso.\n",
        "import time\n",
        "ns = ['zero', 'um', 'dois', 'três', 'quatro', 'cinco', 'seis', 'sete', 'oito', 'nove', 'dez',\n",
        "      'onze', 'doze', 'treze', 'quatorze', 'quinze', 'dezesseis', 'dezessete', 'dezoito', 'dezenove', 'vinte']\n",
        "\n",
        "n = int(input('Digite um número entre 0 e 20: '))\n",
        "print()\n",
        "\n",
        "time.sleep(0.5)\n",
        "print('Calculando.',end = '')\n",
        "time.sleep(0.5)\n",
        "print('.',end = '')\n",
        "time.sleep(0.5)\n",
        "print('.')\n",
        "time.sleep(1)\n",
        "print()\n",
        "\n",
        "while n < 0  or n > 20:\n",
        "  n = int(input('Você digitou um número que não obedece a condição proposta. Digite novamente um número entre 0 e 20: '))\n",
        "print(f'Você digitou o número {ns[n]}.')\n"
      ],
      "metadata": {
        "colab": {
          "base_uri": "https://localhost:8080/"
        },
        "id": "SJVpYEaCkeTC",
        "outputId": "beda9576-05f5-4b15-8e0f-689be943113a"
      },
      "execution_count": null,
      "outputs": [
        {
          "output_type": "stream",
          "name": "stdout",
          "text": [
            "Digite um número entre 0 e 20: 2\n",
            "\n",
            "Calculando...\n",
            "\n",
            "Você digitou o número dois.\n"
          ]
        }
      ]
    },
    {
      "cell_type": "code",
      "source": [
        "#73. Crie uma tupla preenchida com os 20 primeiros colocados da Tabela do Campeonato Brasileiro de Futebol, na ordem de colocação. Depois mostre:\n",
        "#a) Os 5 primeiros times.\n",
        "#b) Os últimos 4 colocados.\n",
        "#c) Times em ordem alfabética. \n",
        "#d) Em que posição está o Santos.\n",
        "import pandas as pd\n",
        "import requests\n",
        "from bs4 import BeautifulSoup\n",
        "\n",
        "#Web Scraping\n",
        "req = requests.get('https://www.terra.com.br/esportes/futebol/brasileiro-serie-a/tabela/')\n",
        "\n",
        "\n",
        "if req.status_code == 200:\n",
        "    content = req.content\n",
        "\n",
        "soup = BeautifulSoup(content, 'html.parser')\n",
        "table = soup.find(name='table')\n",
        "\n",
        "table_str = str(table)\n",
        "df = pd.read_html(table_str)[0]\n",
        "\n",
        "times = list(df['Times.2'])\n",
        "times_format = []\n",
        "\n",
        "for i in times:\n",
        "  times_format.append(i.replace('>','').strip())\n",
        "\n",
        "times = []\n",
        "pos = 1\n",
        "for i in times_format:\n",
        "  times.append((pos, i))\n",
        "  pos +=1\n",
        "\n",
        "pos_santos = 0\n",
        "for (k,i) in times:\n",
        "  if i == 'Santos':\n",
        "    pos_santos = k\n",
        "\n",
        "print(f'1) Os 5 primeiros times são: {[k for (i,k) in times[0:5]]}')\n",
        "print(f'2) Os 4 últimos times são: {[k for (i,k) in times[::-1][0:4][::-1]]}')\n",
        "print(f'3) Os times em ordem alfabética são: {sorted(times_format)}')\n",
        "print(f'4) Posição do Santos: {pos_santos}°')"
      ],
      "metadata": {
        "colab": {
          "base_uri": "https://localhost:8080/"
        },
        "id": "0w9O9_JEssVJ",
        "outputId": "cf768b76-3450-4d19-c89d-c9ddeb0fe000"
      },
      "execution_count": null,
      "outputs": [
        {
          "output_type": "stream",
          "name": "stdout",
          "text": [
            "1) Os 5 primeiros times são: ['Palmeiras', 'Fluminense', 'Internacional', 'Corinthians', 'Flamengo']\n",
            "2) Os 4 últimos times são: ['Cuiabá', 'Avaí', 'Atlético Goianiense', 'Juventude']\n",
            "3) Os times em ordem alfabética são: ['América-MG', 'Athletico-PR', 'Atlético Goianiense', 'Atlético-MG', 'Avaí', 'Botafogo', 'Bragantino', 'Ceará', 'Corinthians', 'Coritiba', 'Cuiabá', 'Flamengo', 'Fluminense', 'Fortaleza', 'Goiás', 'Internacional', 'Juventude', 'Palmeiras', 'Santos', 'São Paulo']\n",
            "4) Posição do Santos: 10°\n"
          ]
        }
      ]
    },
    {
      "cell_type": "code",
      "source": [
        "#74. Crie um programa que vai gerar cinco números aleatórios e colocar em uma tupla. Depois disso, mostre a listagem de números gerados e também \n",
        "#indique o menor e o maior valor que estão na tupla.\n",
        "import random as rd\n",
        "\n",
        "lista = []\n",
        "\n",
        "for i in range(5):\n",
        "  lista.append(rd.randrange(100))\n",
        "\n",
        "lista = tuple(lista)\n",
        "\n",
        "print(f'Os números são: ', end = '')\n",
        "for i in lista:\n",
        "  print(i, end=' ')\n",
        "print()\n",
        "print(f'O menor valor é: {min(lista)}.')\n",
        "print(f'O maior valor é: {max(lista)}.')"
      ],
      "metadata": {
        "colab": {
          "base_uri": "https://localhost:8080/"
        },
        "id": "6L_TtSeLuVvQ",
        "outputId": "eba0386f-781f-4735-9d24-59db5609570c"
      },
      "execution_count": null,
      "outputs": [
        {
          "output_type": "stream",
          "name": "stdout",
          "text": [
            "Os números são: 51 78 64 99 79 \n",
            "O menor valor é: 51.\n",
            "O maior valor é: 99.\n"
          ]
        }
      ]
    },
    {
      "cell_type": "code",
      "source": [
        "#75. Desenvolva um programa que leia quatro valores pelo teclado e guarde-os em uma tupla. No final, mostre:\n",
        "#A) Quantas vezes apareceu o valor 9.\n",
        "#B) Em que posição foi digitado o primeiro valor 3.\n",
        "#C) Quais foram os números pares.\n",
        "\n",
        "k = 0\n",
        "lista = []\n",
        "n = int(input('Digite um número: '))\n",
        "lista.append(n)\n",
        "while k < 3:\n",
        "  n = int(input('Digite outro número: '))\n",
        "  k +=1\n",
        "  lista.append(n)\n",
        "\n",
        "lista = tuple(lista)\n",
        "print()\n",
        "\n",
        "\n",
        "print(f'A) O valor 9 apareceu {lista.count(9)} vezes.')\n",
        "if 3 in lista:\n",
        "  print(f'B) O primeiro valor 3 apareceu na posição {lista.index(3)+1}.')\n",
        "else:\n",
        "  rint('B) O valor 3 não apareceu em nenhuma das posições.')\n",
        "l2 = []\n",
        "for x in lista:\n",
        "  if x%2 == 0:\n",
        "    l2.append(x)\n",
        "print(f'C) Os números pares são: {l2}.')"
      ],
      "metadata": {
        "colab": {
          "base_uri": "https://localhost:8080/"
        },
        "id": "Qb9KfSRZwB11",
        "outputId": "ffb8901e-cb6d-480f-d114-69750355547b"
      },
      "execution_count": null,
      "outputs": [
        {
          "output_type": "stream",
          "name": "stdout",
          "text": [
            "Digite um número: 3\n",
            "Digite outro número: 2\n",
            "Digite outro número: 1\n",
            "Digite outro número: 0\n",
            "\n",
            "A) O valor 9 apareceu 0 vezes.\n",
            "B) O primeiro valor 3 apareceu na posição 1.\n",
            "C) Os números pares são: [2, 0].\n"
          ]
        }
      ]
    },
    {
      "cell_type": "code",
      "source": [
        "#76. Crie um programa que tenha uma tupla única com nomes de produtos e seus respectivos preços, na sequência. No final, mostre uma listagem de preços, \n",
        "#organizando os dados em forma tabular. \n",
        "\n",
        "lista_produtos = ('Lápis', 0.99,\n",
        "                  'Borracha', 1.99,\n",
        "                  'Caderno', 5.99,\n",
        "                  'Pasta', 10,\n",
        "                  'Folha sulfite', 20,\n",
        "                  'Calculadora', 30,\n",
        "                  'Lapiseira', 9.99,\n",
        "                  'Caneta', 4,\n",
        "                  'Pipa', 2.99,\n",
        "                  )\n",
        "\n",
        "print('*'*28)\n",
        "print('***  Listagem de Preços  ***')\n",
        "print('*'*28)\n",
        "for i in range(len(lista_produtos)):\n",
        "  if i%2 == 0:\n",
        "    print(f'{lista_produtos[i]:.<20}', end = '')\n",
        "  else:\n",
        "    print(f'R$ {lista_produtos[i]:.2f}')\n"
      ],
      "metadata": {
        "id": "_FAjzGexwVsk",
        "colab": {
          "base_uri": "https://localhost:8080/"
        },
        "outputId": "ac2b95fc-2e55-4c6f-e07f-1d00222cfe87"
      },
      "execution_count": null,
      "outputs": [
        {
          "output_type": "stream",
          "name": "stdout",
          "text": [
            "****************************\n",
            "***  Listagem de Preços  ***\n",
            "****************************\n",
            "Lápis...............R$ 0.99\n",
            "Borracha............R$ 1.99\n",
            "Caderno.............R$ 5.99\n",
            "Pasta...............R$ 10.00\n",
            "Folha sulfite.......R$ 20.00\n",
            "Calculadora.........R$ 30.00\n",
            "Lapiseira...........R$ 9.99\n",
            "Caneta..............R$ 4.00\n",
            "Pipa................R$ 2.99\n"
          ]
        }
      ]
    },
    {
      "cell_type": "code",
      "source": [
        "#77. Crie um programa que tenha uma tupla com várias palavras (não usar acentos). Depois disso, você deve mostrar, para cada palavra, quais são as suas vogais.\n",
        "\n",
        "palavras = ('carta', 'livro', 'berço', 'camada', 'casa', 'planta', 'livro', 'computador', 'calculadora', 'anotação', 'garrafa', 'água', 'governo')\n",
        "vogais = ('a', 'e', 'i', 'o', 'u')\n",
        "\n",
        "for i in palavras:\n",
        "  print(f'Na palavra {i} temos como vogais', end=' ')\n",
        "  for k in vogais:\n",
        "    if k in i:\n",
        "      print(f'{k}', end=' ')\n",
        "  print()\n"
      ],
      "metadata": {
        "colab": {
          "base_uri": "https://localhost:8080/"
        },
        "id": "KkVbEId1yNSB",
        "outputId": "83e93bcf-2e92-4a6a-dea2-0a7b2f99fd70"
      },
      "execution_count": null,
      "outputs": [
        {
          "output_type": "stream",
          "name": "stdout",
          "text": [
            "Na palavra carta temos como vogais a \n",
            "Na palavra livro temos como vogais i o \n",
            "Na palavra berço temos como vogais e o \n",
            "Na palavra camada temos como vogais a \n",
            "Na palavra casa temos como vogais a \n",
            "Na palavra planta temos como vogais a \n",
            "Na palavra livro temos como vogais i o \n",
            "Na palavra computador temos como vogais a o u \n",
            "Na palavra calculadora temos como vogais a o u \n",
            "Na palavra anotação temos como vogais a o \n",
            "Na palavra garrafa temos como vogais a \n",
            "Na palavra água temos como vogais a u \n",
            "Na palavra governo temos como vogais e o \n"
          ]
        }
      ]
    },
    {
      "cell_type": "code",
      "source": [
        "#78. Faça um programa que leia 5 valores numéricos e guarde-os em uma lista. No final, mostre qual foi o maior e o menor valor digitado e as suas respectivas posições na lista. \n",
        "lista = []\n",
        "\n",
        "for i in range(1,6):\n",
        "  n = int(input(f'Digite o valor para a posição {i}: '))\n",
        "  lista.append(n)\n",
        "\n",
        "maximo = max(lista)\n",
        "minimo = min(lista)\n",
        "print()\n",
        "3\n",
        "print(f'O maior valor da lista foi {maximo} na posição ', end=' ')\n",
        "for i in lista:\n",
        "  if maximo == i:\n",
        "    print(lista.index(i)+1, end=' ')\n",
        "print()\n",
        "\n",
        "print(f'O menor valor da lista foi {minimo} na posição', end=' ')\n",
        "for i in lista:\n",
        "  if minimo == i:\n",
        "    print(lista.index(i)+1, end=' ')"
      ],
      "metadata": {
        "colab": {
          "base_uri": "https://localhost:8080/"
        },
        "id": "T0HlIubm3GvR",
        "outputId": "7987a1fc-2026-4186-ace9-deb3fa9edda5"
      },
      "execution_count": null,
      "outputs": [
        {
          "output_type": "stream",
          "name": "stdout",
          "text": [
            "Digite o valor para a posição 1: 2\n",
            "Digite o valor para a posição 2: 3\n",
            "Digite o valor para a posição 3: 4\n",
            "Digite o valor para a posição 4: 5\n",
            "Digite o valor para a posição 5: 90\n",
            "\n",
            "O maior valor da lista foi 90 na posição  5 \n",
            "O menor valor da lista foi 2 na posição 1 "
          ]
        }
      ]
    },
    {
      "cell_type": "code",
      "source": [
        "#79. Crie um programa onde o usuário possa digitar vários valores numéricos e cadastre-os em uma lista. Caso o número já exista lá dentro,\n",
        "#ele não será adicionado. No final, serão exibidos todos os valores únicos digitados, em ordem crescente. \n",
        "\n",
        "flag = True\n",
        "lista = []\n",
        "while flag:\n",
        "  n = int(input('Digite um número: '))\n",
        "  opt = input('Quer continuar? [S/N]: ').lower()\n",
        "  print()\n",
        "\n",
        "  if n not in lista:\n",
        "    lista.append(n)\n",
        "\n",
        "  if opt == 'n':\n",
        "    flag = False\n",
        "\n",
        "lista = sorted(lista)\n",
        "\n",
        "print('Os números digitados foram: ', end = '')\n",
        "for i in lista:\n",
        "  print(f'{i}', end = ' ')"
      ],
      "metadata": {
        "colab": {
          "base_uri": "https://localhost:8080/"
        },
        "id": "8jiDFe5hU9Dv",
        "outputId": "484fb0c4-076d-4d14-fbf0-35c183b47192"
      },
      "execution_count": 1,
      "outputs": [
        {
          "output_type": "stream",
          "name": "stdout",
          "text": [
            "Digite um número: 3\n",
            "Quer continuar? [S/N]: s\n",
            "\n",
            "Digite um número: 1\n",
            "Quer continuar? [S/N]: n\n",
            "\n",
            "Os números digitados foram: 1 3 "
          ]
        }
      ]
    },
    {
      "cell_type": "code",
      "source": [
        "#80. Crie um programa onde o usuário possa digitar cinco valores numéricos e cadastre-os em uma lista, já na posição correta de \n",
        "# inserção (sem usar o sort()). No final, mostre a lista ordenada na tela.\n",
        "\n",
        "lista_n = []\n",
        "flag = True\n",
        "\n",
        "while flag:\n",
        "  n = int(input('Digite um número: '))\n",
        "  if len(lista_n) == 0:\n",
        "    lista_n.append(n)\n",
        "    print('Lista adicionada na posição 0.')\n",
        "    print()\n",
        "  elif len(lista_n) == 1:\n",
        "    if lista_n[0]\n",
        "    rint('Lista adicionada na posição 0.')\n",
        "    print()\n",
        "  else:\n",
        "    for i in range(0,len(lista_n)):\n",
        "      if lista_n[i]\n",
        "      "
      ],
      "metadata": {
        "colab": {
          "base_uri": "https://localhost:8080/"
        },
        "id": "_d461qPMVr_P",
        "outputId": "2aaf5f50-9aca-4070-819a-f90bf5a88a0f"
      },
      "execution_count": null,
      "outputs": [
        {
          "output_type": "execute_result",
          "data": {
            "text/plain": [
              "False"
            ]
          },
          "metadata": {},
          "execution_count": 2
        }
      ]
    },
    {
      "cell_type": "code",
      "source": [],
      "metadata": {
        "colab": {
          "base_uri": "https://localhost:8080/"
        },
        "id": "Cr0_guhqVw1g",
        "outputId": "82982a79-7134-4a1c-fcde-85b485c9c240"
      },
      "execution_count": null,
      "outputs": [
        {
          "output_type": "stream",
          "name": "stdout",
          "text": [
            "[2, 1]\n"
          ]
        }
      ]
    },
    {
      "cell_type": "code",
      "source": [],
      "metadata": {
        "id": "dTecpxTZWBBb"
      },
      "execution_count": null,
      "outputs": []
    }
  ]
}